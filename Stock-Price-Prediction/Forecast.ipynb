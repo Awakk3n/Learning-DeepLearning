{
 "cells": [
  {
   "cell_type": "markdown",
   "metadata": {},
   "source": [
    "# Libraries"
   ]
  },
  {
   "cell_type": "code",
   "execution_count": 1,
   "metadata": {},
   "outputs": [],
   "source": [
    "import pandas as pd\n",
    "import yfinance as yf"
   ]
  },
  {
   "cell_type": "code",
   "execution_count": 2,
   "metadata": {},
   "outputs": [],
   "source": [
    "import matplotlib.pyplot as plt\n",
    "import seaborn as sns\n",
    "%matplotlib inline\n",
    "plt.rc('figure', figsize=(6,4))"
   ]
  },
  {
   "cell_type": "code",
   "execution_count": 3,
   "metadata": {},
   "outputs": [],
   "source": [
    "import numpy as np\n",
    "import tensorflow as tf\n",
    "import math\n",
    "from sklearn.metrics import root_mean_squared_error\n",
    "from sklearn.preprocessing import MinMaxScaler"
   ]
  },
  {
   "cell_type": "code",
   "execution_count": 4,
   "metadata": {},
   "outputs": [],
   "source": [
    "from tensorflow.keras.models import Sequential\n",
    "from tensorflow.keras.callbacks import EarlyStopping, ReduceLROnPlateau\n",
    "from tensorflow.keras.layers import Dense, LSTM, Dropout, BatchNormalization, Activation\n",
    "from tensorflow.keras.optimizers import Adam"
   ]
  },
  {
   "cell_type": "markdown",
   "metadata": {},
   "source": [
    "# Gathering Data and Storing"
   ]
  },
  {
   "cell_type": "code",
   "execution_count": 87,
   "metadata": {},
   "outputs": [
    {
     "name": "stderr",
     "output_type": "stream",
     "text": [
      "[*********************100%***********************]  1 of 1 completed\n"
     ]
    }
   ],
   "source": [
    "data = yf.download('AAPL', period='10y')\n",
    "data.to_csv('Apple_Data.csv')"
   ]
  },
  {
   "cell_type": "code",
   "execution_count": 88,
   "metadata": {},
   "outputs": [
    {
     "data": {
      "text/html": [
       "<div>\n",
       "<style scoped>\n",
       "    .dataframe tbody tr th:only-of-type {\n",
       "        vertical-align: middle;\n",
       "    }\n",
       "\n",
       "    .dataframe tbody tr th {\n",
       "        vertical-align: top;\n",
       "    }\n",
       "\n",
       "    .dataframe thead th {\n",
       "        text-align: right;\n",
       "    }\n",
       "</style>\n",
       "<table border=\"1\" class=\"dataframe\">\n",
       "  <thead>\n",
       "    <tr style=\"text-align: right;\">\n",
       "      <th></th>\n",
       "      <th>Open</th>\n",
       "      <th>High</th>\n",
       "      <th>Low</th>\n",
       "      <th>Close</th>\n",
       "      <th>Adj Close</th>\n",
       "      <th>Volume</th>\n",
       "    </tr>\n",
       "    <tr>\n",
       "      <th>Date</th>\n",
       "      <th></th>\n",
       "      <th></th>\n",
       "      <th></th>\n",
       "      <th></th>\n",
       "      <th></th>\n",
       "      <th></th>\n",
       "    </tr>\n",
       "  </thead>\n",
       "  <tbody>\n",
       "    <tr>\n",
       "      <th>2024-10-02</th>\n",
       "      <td>225.889999</td>\n",
       "      <td>227.369995</td>\n",
       "      <td>223.020004</td>\n",
       "      <td>226.779999</td>\n",
       "      <td>226.779999</td>\n",
       "      <td>32880600</td>\n",
       "    </tr>\n",
       "    <tr>\n",
       "      <th>2024-10-03</th>\n",
       "      <td>225.139999</td>\n",
       "      <td>226.809998</td>\n",
       "      <td>223.320007</td>\n",
       "      <td>225.669998</td>\n",
       "      <td>225.669998</td>\n",
       "      <td>34044200</td>\n",
       "    </tr>\n",
       "    <tr>\n",
       "      <th>2024-10-04</th>\n",
       "      <td>227.899994</td>\n",
       "      <td>228.000000</td>\n",
       "      <td>224.130005</td>\n",
       "      <td>226.800003</td>\n",
       "      <td>226.800003</td>\n",
       "      <td>37245100</td>\n",
       "    </tr>\n",
       "    <tr>\n",
       "      <th>2024-10-07</th>\n",
       "      <td>224.500000</td>\n",
       "      <td>225.690002</td>\n",
       "      <td>221.330002</td>\n",
       "      <td>221.690002</td>\n",
       "      <td>221.690002</td>\n",
       "      <td>39168300</td>\n",
       "    </tr>\n",
       "    <tr>\n",
       "      <th>2024-10-08</th>\n",
       "      <td>224.309998</td>\n",
       "      <td>225.960007</td>\n",
       "      <td>223.250000</td>\n",
       "      <td>224.820007</td>\n",
       "      <td>224.820007</td>\n",
       "      <td>15039940</td>\n",
       "    </tr>\n",
       "  </tbody>\n",
       "</table>\n",
       "</div>"
      ],
      "text/plain": [
       "                  Open        High         Low       Close   Adj Close  \\\n",
       "Date                                                                     \n",
       "2024-10-02  225.889999  227.369995  223.020004  226.779999  226.779999   \n",
       "2024-10-03  225.139999  226.809998  223.320007  225.669998  225.669998   \n",
       "2024-10-04  227.899994  228.000000  224.130005  226.800003  226.800003   \n",
       "2024-10-07  224.500000  225.690002  221.330002  221.690002  221.690002   \n",
       "2024-10-08  224.309998  225.960007  223.250000  224.820007  224.820007   \n",
       "\n",
       "              Volume  \n",
       "Date                  \n",
       "2024-10-02  32880600  \n",
       "2024-10-03  34044200  \n",
       "2024-10-04  37245100  \n",
       "2024-10-07  39168300  \n",
       "2024-10-08  15039940  "
      ]
     },
     "execution_count": 88,
     "metadata": {},
     "output_type": "execute_result"
    }
   ],
   "source": [
    "data.tail(5)"
   ]
  },
  {
   "cell_type": "markdown",
   "metadata": {},
   "source": [
    "# Reading Data and Working"
   ]
  },
  {
   "cell_type": "code",
   "execution_count": 89,
   "metadata": {},
   "outputs": [],
   "source": [
    "df_raw=pd.read_csv('Apple_Data.csv')"
   ]
  },
  {
   "cell_type": "code",
   "execution_count": 90,
   "metadata": {},
   "outputs": [
    {
     "data": {
      "text/html": [
       "<div>\n",
       "<style scoped>\n",
       "    .dataframe tbody tr th:only-of-type {\n",
       "        vertical-align: middle;\n",
       "    }\n",
       "\n",
       "    .dataframe tbody tr th {\n",
       "        vertical-align: top;\n",
       "    }\n",
       "\n",
       "    .dataframe thead th {\n",
       "        text-align: right;\n",
       "    }\n",
       "</style>\n",
       "<table border=\"1\" class=\"dataframe\">\n",
       "  <thead>\n",
       "    <tr style=\"text-align: right;\">\n",
       "      <th></th>\n",
       "      <th>Date</th>\n",
       "      <th>Open</th>\n",
       "      <th>High</th>\n",
       "      <th>Low</th>\n",
       "      <th>Close</th>\n",
       "      <th>Adj Close</th>\n",
       "      <th>Volume</th>\n",
       "    </tr>\n",
       "  </thead>\n",
       "  <tbody>\n",
       "    <tr>\n",
       "      <th>0</th>\n",
       "      <td>2014-10-08</td>\n",
       "      <td>24.690001</td>\n",
       "      <td>25.277500</td>\n",
       "      <td>24.577499</td>\n",
       "      <td>25.200001</td>\n",
       "      <td>22.375263</td>\n",
       "      <td>229618800</td>\n",
       "    </tr>\n",
       "    <tr>\n",
       "      <th>1</th>\n",
       "      <td>2014-10-09</td>\n",
       "      <td>25.385000</td>\n",
       "      <td>25.594999</td>\n",
       "      <td>25.152500</td>\n",
       "      <td>25.254999</td>\n",
       "      <td>22.424097</td>\n",
       "      <td>309506000</td>\n",
       "    </tr>\n",
       "    <tr>\n",
       "      <th>2</th>\n",
       "      <td>2014-10-10</td>\n",
       "      <td>25.172501</td>\n",
       "      <td>25.507500</td>\n",
       "      <td>25.075001</td>\n",
       "      <td>25.182501</td>\n",
       "      <td>22.359724</td>\n",
       "      <td>265326400</td>\n",
       "    </tr>\n",
       "    <tr>\n",
       "      <th>3</th>\n",
       "      <td>2014-10-13</td>\n",
       "      <td>25.332500</td>\n",
       "      <td>25.445000</td>\n",
       "      <td>24.952499</td>\n",
       "      <td>24.952499</td>\n",
       "      <td>22.155504</td>\n",
       "      <td>214333600</td>\n",
       "    </tr>\n",
       "    <tr>\n",
       "      <th>4</th>\n",
       "      <td>2014-10-14</td>\n",
       "      <td>25.097500</td>\n",
       "      <td>25.129999</td>\n",
       "      <td>24.642500</td>\n",
       "      <td>24.687500</td>\n",
       "      <td>21.920214</td>\n",
       "      <td>254754400</td>\n",
       "    </tr>\n",
       "    <tr>\n",
       "      <th>5</th>\n",
       "      <td>2014-10-15</td>\n",
       "      <td>24.492500</td>\n",
       "      <td>24.787500</td>\n",
       "      <td>23.795000</td>\n",
       "      <td>24.385000</td>\n",
       "      <td>21.651623</td>\n",
       "      <td>403734400</td>\n",
       "    </tr>\n",
       "    <tr>\n",
       "      <th>6</th>\n",
       "      <td>2014-10-16</td>\n",
       "      <td>23.887501</td>\n",
       "      <td>24.430000</td>\n",
       "      <td>23.852501</td>\n",
       "      <td>24.065001</td>\n",
       "      <td>21.367489</td>\n",
       "      <td>288618000</td>\n",
       "    </tr>\n",
       "    <tr>\n",
       "      <th>7</th>\n",
       "      <td>2014-10-17</td>\n",
       "      <td>24.375000</td>\n",
       "      <td>24.750000</td>\n",
       "      <td>24.202499</td>\n",
       "      <td>24.417500</td>\n",
       "      <td>21.680471</td>\n",
       "      <td>272718800</td>\n",
       "    </tr>\n",
       "    <tr>\n",
       "      <th>8</th>\n",
       "      <td>2014-10-20</td>\n",
       "      <td>24.580000</td>\n",
       "      <td>24.990000</td>\n",
       "      <td>24.555000</td>\n",
       "      <td>24.940001</td>\n",
       "      <td>22.144403</td>\n",
       "      <td>310069200</td>\n",
       "    </tr>\n",
       "    <tr>\n",
       "      <th>9</th>\n",
       "      <td>2014-10-21</td>\n",
       "      <td>25.754999</td>\n",
       "      <td>25.754999</td>\n",
       "      <td>25.317499</td>\n",
       "      <td>25.617500</td>\n",
       "      <td>22.745966</td>\n",
       "      <td>378495600</td>\n",
       "    </tr>\n",
       "  </tbody>\n",
       "</table>\n",
       "</div>"
      ],
      "text/plain": [
       "         Date       Open       High        Low      Close  Adj Close  \\\n",
       "0  2014-10-08  24.690001  25.277500  24.577499  25.200001  22.375263   \n",
       "1  2014-10-09  25.385000  25.594999  25.152500  25.254999  22.424097   \n",
       "2  2014-10-10  25.172501  25.507500  25.075001  25.182501  22.359724   \n",
       "3  2014-10-13  25.332500  25.445000  24.952499  24.952499  22.155504   \n",
       "4  2014-10-14  25.097500  25.129999  24.642500  24.687500  21.920214   \n",
       "5  2014-10-15  24.492500  24.787500  23.795000  24.385000  21.651623   \n",
       "6  2014-10-16  23.887501  24.430000  23.852501  24.065001  21.367489   \n",
       "7  2014-10-17  24.375000  24.750000  24.202499  24.417500  21.680471   \n",
       "8  2014-10-20  24.580000  24.990000  24.555000  24.940001  22.144403   \n",
       "9  2014-10-21  25.754999  25.754999  25.317499  25.617500  22.745966   \n",
       "\n",
       "      Volume  \n",
       "0  229618800  \n",
       "1  309506000  \n",
       "2  265326400  \n",
       "3  214333600  \n",
       "4  254754400  \n",
       "5  403734400  \n",
       "6  288618000  \n",
       "7  272718800  \n",
       "8  310069200  \n",
       "9  378495600  "
      ]
     },
     "execution_count": 90,
     "metadata": {},
     "output_type": "execute_result"
    }
   ],
   "source": [
    "df_raw.head(10)"
   ]
  },
  {
   "cell_type": "code",
   "execution_count": 91,
   "metadata": {},
   "outputs": [],
   "source": [
    "df=df_raw.reset_index()['Close']"
   ]
  },
  {
   "cell_type": "code",
   "execution_count": 92,
   "metadata": {},
   "outputs": [
    {
     "data": {
      "text/plain": [
       "(2517,)"
      ]
     },
     "execution_count": 92,
     "metadata": {},
     "output_type": "execute_result"
    }
   ],
   "source": [
    "df.shape"
   ]
  },
  {
   "cell_type": "code",
   "execution_count": 93,
   "metadata": {},
   "outputs": [
    {
     "data": {
      "text/plain": [
       "[<matplotlib.lines.Line2D at 0x12ee6163ca0>]"
      ]
     },
     "execution_count": 93,
     "metadata": {},
     "output_type": "execute_result"
    },
    {
     "data": {
      "image/png": "[encoded data removed]",
      "text/plain": [
       "<Figure size 600x400 with 1 Axes>"
      ]
     },
     "metadata": {},
     "output_type": "display_data"
    }
   ],
   "source": [
    "plt.plot(df)"
   ]
  },
  {
   "cell_type": "code",
   "execution_count": 94,
   "metadata": {},
   "outputs": [],
   "source": [
    "scaler=MinMaxScaler(feature_range=(0,1))\n",
    "df=scaler.fit_transform(np.array(df).reshape(-1,1))"
   ]
  },
  {
   "cell_type": "code",
   "execution_count": 95,
   "metadata": {},
   "outputs": [
    {
     "data": {
      "text/plain": [
       "(2517, 1)"
      ]
     },
     "execution_count": 95,
     "metadata": {},
     "output_type": "execute_result"
    }
   ],
   "source": [
    "df.shape"
   ]
  },
  {
   "cell_type": "code",
   "execution_count": 96,
   "metadata": {},
   "outputs": [
    {
     "name": "stdout",
     "output_type": "stream",
     "text": [
      "2013 504\n"
     ]
    }
   ],
   "source": [
    "train_size=int(len(df)*0.8)\n",
    "test_size=len(df)-train_size\n",
    "train_df,test_df=df[0:train_size, :], df[train_size: len(df),:1]\n",
    "\n",
    "print(train_size,test_size )"
   ]
  },
  {
   "cell_type": "markdown",
   "metadata": {},
   "source": [
    "# Creating Datasets"
   ]
  },
  {
   "cell_type": "code",
   "execution_count": 97,
   "metadata": {},
   "outputs": [],
   "source": [
    "def create_datasets(dataset, time_step=1):\n",
    "    datax, datay=[],[]\n",
    "    for i in range(len(dataset)-time_step-1):\n",
    "        a=dataset[i:(i+time_step),0]\n",
    "        datax.append(a)\n",
    "        datay.append(dataset[i+time_step,0])\n",
    "    return np.array(datax), np.array(datay)\n"
   ]
  },
  {
   "cell_type": "code",
   "execution_count": 98,
   "metadata": {},
   "outputs": [],
   "source": [
    "time_step=100\n",
    "train_df, train_target=create_datasets(train_df, time_step)\n",
    "test_df, test_target=create_datasets(test_df, time_step)"
   ]
  },
  {
   "cell_type": "code",
   "execution_count": 99,
   "metadata": {},
   "outputs": [
    {
     "data": {
      "text/plain": [
       "(((1912, 100), (1912,)), ((403, 100), (403,)))"
      ]
     },
     "execution_count": 99,
     "metadata": {},
     "output_type": "execute_result"
    }
   ],
   "source": [
    "(train_df.shape, train_target.shape), (test_df.shape, test_target.shape)"
   ]
  },
  {
   "cell_type": "code",
   "execution_count": 100,
   "metadata": {},
   "outputs": [
    {
     "name": "stdout",
     "output_type": "stream",
     "text": [
      "((1912, 100, 1), (1912,)) ((403, 100, 1), (403,))\n"
     ]
    }
   ],
   "source": [
    "train_df=train_df.reshape(train_df.shape[0], train_df.shape[1], 1)\n",
    "test_df=test_df.reshape(test_df.shape[0], test_df.shape[1], 1)\n",
    "\n",
    "print((train_df.shape, train_target.shape), (test_df.shape, test_target.shape))"
   ]
  },
  {
   "cell_type": "markdown",
   "metadata": {},
   "source": [
    "# Model"
   ]
  },
  {
   "cell_type": "code",
   "execution_count": 106,
   "metadata": {},
   "outputs": [],
   "source": [
    "model=Sequential()\n",
    "model.add(LSTM(50, activation='relu', return_sequences=True, input_shape=(100,1)))\n",
    "# model.add(BatchNormalization())\n",
    "# model.add(Dropout(0.3))\n",
    "\n",
    "model.add(LSTM(35, activation='relu', return_sequences=True))\n",
    "# model.add(BatchNormalization())\n",
    "# model.add(Dropout(0.4))\n",
    "\n",
    "model.add(LSTM(25,activation='relu', return_sequences=True))\n",
    "# # model.add(BatchNormalization())\n",
    "# # model.add(Dropout(0.3))\n",
    "\n",
    "model.add(LSTM(10, activation='relu'))\n",
    "# model.add(BatchNormalization())\n",
    "# model.add(Dropout(0.4))\n",
    "\n",
    "model.add(Dense(1))\n",
    "     \n",
    "optimizer = Adam(learning_rate=0.01)\n",
    "model.compile(optimizer=optimizer, loss='mean_squared_error', \n",
    "              metrics=['accuracy']\n",
    "              )"
   ]
  },
  {
   "cell_type": "code",
   "execution_count": 107,
   "metadata": {},
   "outputs": [
    {
     "name": "stdout",
     "output_type": "stream",
     "text": [
      "Model: \"sequential_4\"\n",
      "_________________________________________________________________\n",
      " Layer (type)                Output Shape              Param #   \n",
      "=================================================================\n",
      " lstm_14 (LSTM)              (None, 100, 50)           10400     \n",
      "                                                                 \n",
      " lstm_15 (LSTM)              (None, 100, 35)           12040     \n",
      "                                                                 \n",
      " lstm_16 (LSTM)              (None, 100, 25)           6100      \n",
      "                                                                 \n",
      " lstm_17 (LSTM)              (None, 10)                1440      \n",
      "                                                                 \n",
      " dense_4 (Dense)             (None, 1)                 11        \n",
      "                                                                 \n",
      "=================================================================\n",
      "Total params: 29,991\n",
      "Trainable params: 29,991\n",
      "Non-trainable params: 0\n",
      "_________________________________________________________________\n"
     ]
    }
   ],
   "source": [
    "model.summary()"
   ]
  },
  {
   "cell_type": "code",
   "execution_count": 108,
   "metadata": {},
   "outputs": [
    {
     "name": "stdout",
     "output_type": "stream",
     "text": [
      "Epoch 1/100\n",
      "30/30 [==============================] - 14s 257ms/step - loss: 0.0223 - accuracy: 5.2301e-04 - val_loss: 0.0040 - val_accuracy: 0.0025\n",
      "Epoch 2/100\n",
      "30/30 [==============================] - 7s 227ms/step - loss: 7.1236e-04 - accuracy: 5.2301e-04 - val_loss: 0.0085 - val_accuracy: 0.0025\n",
      "Epoch 3/100\n",
      "30/30 [==============================] - 7s 222ms/step - loss: 5.9043e-04 - accuracy: 5.2301e-04 - val_loss: 0.0030 - val_accuracy: 0.0025\n",
      "Epoch 4/100\n",
      "30/30 [==============================] - 7s 218ms/step - loss: 5.8451e-04 - accuracy: 5.2301e-04 - val_loss: 0.0023 - val_accuracy: 0.0025\n",
      "Epoch 5/100\n",
      "30/30 [==============================] - 7s 222ms/step - loss: 6.1168e-04 - accuracy: 5.2301e-04 - val_loss: 0.0070 - val_accuracy: 0.0025\n",
      "Epoch 6/100\n",
      "30/30 [==============================] - 7s 235ms/step - loss: 5.4353e-04 - accuracy: 5.2301e-04 - val_loss: 0.0050 - val_accuracy: 0.0025\n",
      "Epoch 7/100\n",
      "30/30 [==============================] - 7s 245ms/step - loss: 5.8486e-04 - accuracy: 5.2301e-04 - val_loss: 0.0041 - val_accuracy: 0.0025\n",
      "Epoch 8/100\n",
      "30/30 [==============================] - 7s 247ms/step - loss: 4.1348e-04 - accuracy: 5.2301e-04 - val_loss: 0.0031 - val_accuracy: 0.0025\n",
      "Epoch 9/100\n",
      "30/30 [==============================] - 8s 268ms/step - loss: 5.5859e-04 - accuracy: 5.2301e-04 - val_loss: 0.0053 - val_accuracy: 0.0025\n",
      "Epoch 10/100\n",
      "30/30 [==============================] - 7s 248ms/step - loss: 4.3064e-04 - accuracy: 5.2301e-04 - val_loss: 0.0045 - val_accuracy: 0.0025\n",
      "Epoch 11/100\n",
      "30/30 [==============================] - 7s 248ms/step - loss: 4.8798e-04 - accuracy: 5.2301e-04 - val_loss: 0.0011 - val_accuracy: 0.0025\n",
      "Epoch 12/100\n",
      "30/30 [==============================] - 7s 242ms/step - loss: 3.9512e-04 - accuracy: 5.2301e-04 - val_loss: 0.0011 - val_accuracy: 0.0025\n",
      "Epoch 13/100\n",
      "30/30 [==============================] - 7s 249ms/step - loss: 5.1713e-04 - accuracy: 5.2301e-04 - val_loss: 0.0018 - val_accuracy: 0.0025\n",
      "Epoch 14/100\n",
      "30/30 [==============================] - 7s 246ms/step - loss: 5.8086e-04 - accuracy: 5.2301e-04 - val_loss: 0.0036 - val_accuracy: 0.0025\n",
      "Epoch 15/100\n",
      "30/30 [==============================] - 7s 248ms/step - loss: 4.3640e-04 - accuracy: 5.2301e-04 - val_loss: 9.3906e-04 - val_accuracy: 0.0025\n",
      "Epoch 16/100\n",
      "30/30 [==============================] - 7s 244ms/step - loss: 3.9972e-04 - accuracy: 5.2301e-04 - val_loss: 0.0024 - val_accuracy: 0.0025\n",
      "Epoch 17/100\n",
      "30/30 [==============================] - 7s 238ms/step - loss: 3.3401e-04 - accuracy: 5.2301e-04 - val_loss: 0.0031 - val_accuracy: 0.0025\n",
      "Epoch 18/100\n",
      "30/30 [==============================] - 7s 237ms/step - loss: 3.7695e-04 - accuracy: 5.2301e-04 - val_loss: 6.1797e-04 - val_accuracy: 0.0025\n",
      "Epoch 19/100\n",
      "30/30 [==============================] - 7s 242ms/step - loss: 2.9636e-04 - accuracy: 5.2301e-04 - val_loss: 0.0023 - val_accuracy: 0.0025\n",
      "Epoch 20/100\n",
      "30/30 [==============================] - 7s 238ms/step - loss: 3.4422e-04 - accuracy: 5.2301e-04 - val_loss: 0.0016 - val_accuracy: 0.0025\n",
      "Epoch 21/100\n",
      "30/30 [==============================] - 7s 243ms/step - loss: 4.4746e-04 - accuracy: 5.2301e-04 - val_loss: 6.1247e-04 - val_accuracy: 0.0025\n",
      "Epoch 22/100\n",
      "30/30 [==============================] - 7s 240ms/step - loss: 2.6063e-04 - accuracy: 5.2301e-04 - val_loss: 0.0012 - val_accuracy: 0.0025\n",
      "Epoch 23/100\n",
      "30/30 [==============================] - 7s 249ms/step - loss: 3.3642e-04 - accuracy: 5.2301e-04 - val_loss: 0.0015 - val_accuracy: 0.0025\n",
      "Epoch 24/100\n",
      "30/30 [==============================] - 8s 276ms/step - loss: 3.7258e-04 - accuracy: 5.2301e-04 - val_loss: 0.0063 - val_accuracy: 0.0025\n",
      "Epoch 25/100\n",
      "30/30 [==============================] - 7s 247ms/step - loss: 5.1871e-04 - accuracy: 5.2301e-04 - val_loss: 0.0019 - val_accuracy: 0.0025\n",
      "Epoch 26/100\n",
      "30/30 [==============================] - 7s 242ms/step - loss: 3.5066e-04 - accuracy: 5.2301e-04 - val_loss: 5.4027e-04 - val_accuracy: 0.0025\n",
      "Epoch 27/100\n",
      "30/30 [==============================] - 7s 244ms/step - loss: 3.2410e-04 - accuracy: 5.2301e-04 - val_loss: 6.6546e-04 - val_accuracy: 0.0025\n",
      "Epoch 28/100\n",
      "30/30 [==============================] - 7s 240ms/step - loss: 2.6843e-04 - accuracy: 5.2301e-04 - val_loss: 4.4997e-04 - val_accuracy: 0.0025\n",
      "Epoch 29/100\n",
      "30/30 [==============================] - 8s 281ms/step - loss: 1.9957e-04 - accuracy: 5.2301e-04 - val_loss: 8.6553e-04 - val_accuracy: 0.0025\n",
      "Epoch 30/100\n",
      "30/30 [==============================] - 8s 252ms/step - loss: 1.9569e-04 - accuracy: 5.2301e-04 - val_loss: 9.5432e-04 - val_accuracy: 0.0025\n",
      "Epoch 31/100\n",
      "30/30 [==============================] - 7s 245ms/step - loss: 2.1313e-04 - accuracy: 5.2301e-04 - val_loss: 0.0013 - val_accuracy: 0.0025\n",
      "Epoch 32/100\n",
      "30/30 [==============================] - 7s 238ms/step - loss: 2.4366e-04 - accuracy: 5.2301e-04 - val_loss: 0.0013 - val_accuracy: 0.0025\n",
      "Epoch 33/100\n",
      "30/30 [==============================] - 7s 243ms/step - loss: 1.9494e-04 - accuracy: 5.2301e-04 - val_loss: 3.8389e-04 - val_accuracy: 0.0025\n",
      "Epoch 34/100\n",
      "30/30 [==============================] - 8s 257ms/step - loss: 2.2071e-04 - accuracy: 5.2301e-04 - val_loss: 0.0017 - val_accuracy: 0.0025\n",
      "Epoch 35/100\n",
      "30/30 [==============================] - 8s 262ms/step - loss: 1.9720e-04 - accuracy: 5.2301e-04 - val_loss: 2.9646e-04 - val_accuracy: 0.0025\n",
      "Epoch 36/100\n",
      "30/30 [==============================] - 8s 272ms/step - loss: 1.6874e-04 - accuracy: 5.2301e-04 - val_loss: 5.5723e-04 - val_accuracy: 0.0025\n",
      "Epoch 37/100\n",
      "30/30 [==============================] - 8s 273ms/step - loss: 2.0711e-04 - accuracy: 5.2301e-04 - val_loss: 5.6695e-04 - val_accuracy: 0.0025\n",
      "Epoch 38/100\n",
      "30/30 [==============================] - 8s 260ms/step - loss: 1.7592e-04 - accuracy: 5.2301e-04 - val_loss: 6.1157e-04 - val_accuracy: 0.0025\n",
      "Epoch 39/100\n",
      "30/30 [==============================] - 8s 268ms/step - loss: 1.7468e-04 - accuracy: 5.2301e-04 - val_loss: 4.6957e-04 - val_accuracy: 0.0025\n",
      "Epoch 40/100\n",
      "30/30 [==============================] - 8s 260ms/step - loss: 2.6585e-04 - accuracy: 5.2301e-04 - val_loss: 0.0040 - val_accuracy: 0.0025\n",
      "Epoch 41/100\n",
      "30/30 [==============================] - 8s 268ms/step - loss: 2.2009e-04 - accuracy: 5.2301e-04 - val_loss: 2.7642e-04 - val_accuracy: 0.0025\n",
      "Epoch 42/100\n",
      "30/30 [==============================] - 8s 270ms/step - loss: 1.5742e-04 - accuracy: 5.2301e-04 - val_loss: 2.9113e-04 - val_accuracy: 0.0025\n",
      "Epoch 43/100\n",
      "30/30 [==============================] - 8s 265ms/step - loss: 2.4386e-04 - accuracy: 5.2301e-04 - val_loss: 3.1593e-04 - val_accuracy: 0.0025\n",
      "Epoch 44/100\n",
      "30/30 [==============================] - 8s 264ms/step - loss: 1.5226e-04 - accuracy: 5.2301e-04 - val_loss: 4.4636e-04 - val_accuracy: 0.0025\n",
      "Epoch 45/100\n",
      "30/30 [==============================] - 8s 263ms/step - loss: 1.5598e-04 - accuracy: 5.2301e-04 - val_loss: 2.7201e-04 - val_accuracy: 0.0025\n",
      "Epoch 46/100\n",
      "30/30 [==============================] - 8s 267ms/step - loss: 1.6197e-04 - accuracy: 5.2301e-04 - val_loss: 5.9675e-04 - val_accuracy: 0.0025\n",
      "Epoch 47/100\n",
      "30/30 [==============================] - 8s 273ms/step - loss: 1.3901e-04 - accuracy: 5.2301e-04 - val_loss: 1.8974e-04 - val_accuracy: 0.0025\n",
      "Epoch 48/100\n",
      "30/30 [==============================] - 8s 262ms/step - loss: 1.2963e-04 - accuracy: 5.2301e-04 - val_loss: 4.9343e-04 - val_accuracy: 0.0025\n",
      "Epoch 49/100\n",
      "30/30 [==============================] - 8s 282ms/step - loss: 1.8295e-04 - accuracy: 5.2301e-04 - val_loss: 4.7899e-04 - val_accuracy: 0.0025\n",
      "Epoch 50/100\n",
      "30/30 [==============================] - 9s 285ms/step - loss: 1.4815e-04 - accuracy: 5.2301e-04 - val_loss: 1.8622e-04 - val_accuracy: 0.0025\n",
      "Epoch 51/100\n",
      "30/30 [==============================] - 8s 266ms/step - loss: 1.4388e-04 - accuracy: 5.2301e-04 - val_loss: 3.1465e-04 - val_accuracy: 0.0025\n",
      "Epoch 52/100\n",
      "30/30 [==============================] - 8s 260ms/step - loss: 3.0240e-04 - accuracy: 5.2301e-04 - val_loss: 0.0027 - val_accuracy: 0.0025\n",
      "Epoch 53/100\n",
      "30/30 [==============================] - 8s 264ms/step - loss: 1.5447e-04 - accuracy: 5.2301e-04 - val_loss: 1.9066e-04 - val_accuracy: 0.0025\n",
      "Epoch 54/100\n",
      "30/30 [==============================] - 8s 267ms/step - loss: 1.3700e-04 - accuracy: 5.2301e-04 - val_loss: 1.9547e-04 - val_accuracy: 0.0025\n",
      "Epoch 55/100\n",
      "30/30 [==============================] - 8s 264ms/step - loss: 1.4379e-04 - accuracy: 5.2301e-04 - val_loss: 1.7039e-04 - val_accuracy: 0.0025\n",
      "Epoch 56/100\n",
      "30/30 [==============================] - 8s 266ms/step - loss: 1.1826e-04 - accuracy: 5.2301e-04 - val_loss: 6.0594e-04 - val_accuracy: 0.0025\n",
      "Epoch 57/100\n",
      "30/30 [==============================] - 8s 267ms/step - loss: 1.6611e-04 - accuracy: 5.2301e-04 - val_loss: 5.1284e-04 - val_accuracy: 0.0025\n",
      "Epoch 58/100\n",
      "30/30 [==============================] - 9s 297ms/step - loss: 1.2607e-04 - accuracy: 5.2301e-04 - val_loss: 2.9144e-04 - val_accuracy: 0.0025\n",
      "Epoch 59/100\n",
      "30/30 [==============================] - 8s 259ms/step - loss: 1.6761e-04 - accuracy: 5.2301e-04 - val_loss: 3.9769e-04 - val_accuracy: 0.0025\n",
      "Epoch 60/100\n",
      "30/30 [==============================] - 8s 264ms/step - loss: 1.5369e-04 - accuracy: 5.2301e-04 - val_loss: 7.2859e-04 - val_accuracy: 0.0025\n",
      "Epoch 61/100\n",
      "30/30 [==============================] - 8s 263ms/step - loss: 1.1955e-04 - accuracy: 5.2301e-04 - val_loss: 1.9479e-04 - val_accuracy: 0.0025\n",
      "Epoch 62/100\n",
      "30/30 [==============================] - 8s 262ms/step - loss: 9.7204e-05 - accuracy: 5.2301e-04 - val_loss: 6.0069e-04 - val_accuracy: 0.0025\n",
      "Epoch 63/100\n",
      "30/30 [==============================] - 8s 267ms/step - loss: 1.1411e-04 - accuracy: 5.2301e-04 - val_loss: 4.1067e-04 - val_accuracy: 0.0025\n",
      "Epoch 64/100\n",
      "30/30 [==============================] - 8s 259ms/step - loss: 2.2492e-04 - accuracy: 5.2301e-04 - val_loss: 3.6628e-04 - val_accuracy: 0.0025\n",
      "Epoch 65/100\n",
      "30/30 [==============================] - 8s 263ms/step - loss: 1.8170e-04 - accuracy: 5.2301e-04 - val_loss: 0.0012 - val_accuracy: 0.0025\n",
      "Epoch 66/100\n",
      "30/30 [==============================] - 8s 260ms/step - loss: 1.1310e-04 - accuracy: 5.2301e-04 - val_loss: 2.5399e-04 - val_accuracy: 0.0025\n",
      "Epoch 67/100\n",
      "30/30 [==============================] - 8s 276ms/step - loss: 1.1681e-04 - accuracy: 5.2301e-04 - val_loss: 3.8794e-04 - val_accuracy: 0.0025\n",
      "Epoch 68/100\n",
      "30/30 [==============================] - 9s 290ms/step - loss: 1.1975e-04 - accuracy: 5.2301e-04 - val_loss: 6.2897e-04 - val_accuracy: 0.0025\n",
      "Epoch 69/100\n",
      "30/30 [==============================] - 8s 277ms/step - loss: 1.8665e-04 - accuracy: 5.2301e-04 - val_loss: 3.6098e-04 - val_accuracy: 0.0025\n",
      "Epoch 70/100\n",
      "30/30 [==============================] - 8s 259ms/step - loss: 1.2768e-04 - accuracy: 5.2301e-04 - val_loss: 2.4698e-04 - val_accuracy: 0.0025\n",
      "Epoch 71/100\n",
      "30/30 [==============================] - 8s 266ms/step - loss: 9.9792e-05 - accuracy: 5.2301e-04 - val_loss: 7.7908e-04 - val_accuracy: 0.0025\n",
      "Epoch 72/100\n",
      "30/30 [==============================] - 8s 268ms/step - loss: 1.2088e-04 - accuracy: 5.2301e-04 - val_loss: 2.8760e-04 - val_accuracy: 0.0025\n",
      "Epoch 73/100\n",
      "30/30 [==============================] - 8s 269ms/step - loss: 1.7032e-04 - accuracy: 5.2301e-04 - val_loss: 3.1057e-04 - val_accuracy: 0.0025\n",
      "Epoch 74/100\n",
      "30/30 [==============================] - 8s 285ms/step - loss: 1.0321e-04 - accuracy: 5.2301e-04 - val_loss: 4.6256e-04 - val_accuracy: 0.0025\n",
      "Epoch 75/100\n",
      "30/30 [==============================] - 8s 273ms/step - loss: 1.2248e-04 - accuracy: 5.2301e-04 - val_loss: 7.8330e-04 - val_accuracy: 0.0025\n",
      "Epoch 76/100\n",
      "30/30 [==============================] - 8s 261ms/step - loss: 1.4865e-04 - accuracy: 5.2301e-04 - val_loss: 5.0601e-04 - val_accuracy: 0.0025\n",
      "Epoch 77/100\n",
      "30/30 [==============================] - 8s 264ms/step - loss: 1.0145e-04 - accuracy: 5.2301e-04 - val_loss: 4.5575e-04 - val_accuracy: 0.0025\n",
      "Epoch 78/100\n",
      "30/30 [==============================] - 8s 269ms/step - loss: 1.0256e-04 - accuracy: 5.2301e-04 - val_loss: 6.7622e-04 - val_accuracy: 0.0025\n",
      "Epoch 79/100\n",
      "30/30 [==============================] - 8s 258ms/step - loss: 1.1383e-04 - accuracy: 5.2301e-04 - val_loss: 2.7721e-04 - val_accuracy: 0.0025\n",
      "Epoch 80/100\n",
      "30/30 [==============================] - 8s 271ms/step - loss: 1.0290e-04 - accuracy: 5.2301e-04 - val_loss: 8.6302e-04 - val_accuracy: 0.0025\n",
      "Epoch 81/100\n",
      "30/30 [==============================] - 8s 269ms/step - loss: 1.1281e-04 - accuracy: 5.2301e-04 - val_loss: 4.9319e-04 - val_accuracy: 0.0025\n",
      "Epoch 82/100\n",
      "30/30 [==============================] - 8s 269ms/step - loss: 1.2992e-04 - accuracy: 5.2301e-04 - val_loss: 3.0980e-04 - val_accuracy: 0.0025\n",
      "Epoch 83/100\n",
      "30/30 [==============================] - 8s 277ms/step - loss: 8.4700e-05 - accuracy: 5.2301e-04 - val_loss: 2.8598e-04 - val_accuracy: 0.0025\n",
      "Epoch 84/100\n",
      "30/30 [==============================] - 8s 261ms/step - loss: 1.1304e-04 - accuracy: 5.2301e-04 - val_loss: 3.2568e-04 - val_accuracy: 0.0025\n",
      "Epoch 85/100\n",
      "30/30 [==============================] - 8s 261ms/step - loss: 9.1351e-05 - accuracy: 5.2301e-04 - val_loss: 7.8982e-04 - val_accuracy: 0.0025\n",
      "Epoch 86/100\n",
      "30/30 [==============================] - 8s 267ms/step - loss: 1.5266e-04 - accuracy: 5.2301e-04 - val_loss: 6.5355e-04 - val_accuracy: 0.0025\n",
      "Epoch 87/100\n",
      "30/30 [==============================] - 8s 269ms/step - loss: 1.0189e-04 - accuracy: 5.2301e-04 - val_loss: 4.2716e-04 - val_accuracy: 0.0025\n",
      "Epoch 88/100\n",
      "30/30 [==============================] - 8s 268ms/step - loss: 8.5305e-05 - accuracy: 5.2301e-04 - val_loss: 3.4011e-04 - val_accuracy: 0.0025\n",
      "Epoch 89/100\n",
      "30/30 [==============================] - 8s 259ms/step - loss: 1.4585e-04 - accuracy: 5.2301e-04 - val_loss: 6.0756e-04 - val_accuracy: 0.0025\n",
      "Epoch 90/100\n",
      "30/30 [==============================] - 8s 262ms/step - loss: 4.5236e-04 - accuracy: 5.2301e-04 - val_loss: 7.8214e-04 - val_accuracy: 0.0025\n",
      "Epoch 91/100\n",
      "30/30 [==============================] - 8s 265ms/step - loss: 2.2846e-04 - accuracy: 5.2301e-04 - val_loss: 2.7625e-04 - val_accuracy: 0.0025\n",
      "Epoch 92/100\n",
      "30/30 [==============================] - 8s 266ms/step - loss: 1.3957e-04 - accuracy: 5.2301e-04 - val_loss: 3.1585e-04 - val_accuracy: 0.0025\n",
      "Epoch 93/100\n",
      "30/30 [==============================] - 8s 259ms/step - loss: 9.2479e-05 - accuracy: 5.2301e-04 - val_loss: 3.8455e-04 - val_accuracy: 0.0025\n",
      "Epoch 94/100\n",
      "30/30 [==============================] - 8s 282ms/step - loss: 8.5494e-05 - accuracy: 5.2301e-04 - val_loss: 8.5073e-04 - val_accuracy: 0.0025\n",
      "Epoch 95/100\n",
      "30/30 [==============================] - 9s 293ms/step - loss: 9.0552e-05 - accuracy: 5.2301e-04 - val_loss: 3.0313e-04 - val_accuracy: 0.0025\n",
      "Epoch 96/100\n",
      "30/30 [==============================] - 9s 290ms/step - loss: 1.0456e-04 - accuracy: 5.2301e-04 - val_loss: 2.1994e-04 - val_accuracy: 0.0025\n",
      "Epoch 97/100\n",
      "30/30 [==============================] - 9s 293ms/step - loss: 1.0201e-04 - accuracy: 5.2301e-04 - val_loss: 3.1441e-04 - val_accuracy: 0.0025\n",
      "Epoch 98/100\n",
      "30/30 [==============================] - 9s 293ms/step - loss: 1.3339e-04 - accuracy: 5.2301e-04 - val_loss: 7.3142e-04 - val_accuracy: 0.0025\n",
      "Epoch 99/100\n",
      "30/30 [==============================] - 8s 281ms/step - loss: 1.0853e-04 - accuracy: 5.2301e-04 - val_loss: 0.0026 - val_accuracy: 0.0025\n",
      "Epoch 100/100\n",
      "30/30 [==============================] - 8s 269ms/step - loss: 1.2428e-04 - accuracy: 5.2301e-04 - val_loss: 3.5455e-04 - val_accuracy: 0.0025\n"
     ]
    }
   ],
   "source": [
    "# early_stop = EarlyStopping(monitor='val_loss', patience=10, restore_best_weights=True)\n",
    "# reduce_lr = ReduceLROnPlateau(monitor='val_loss', factor=0.2, patience=5, min_lr=1e-5)\n",
    "\n",
    "history = model.fit(train_df, train_target,\n",
    "                        epochs=100,batch_size=64,verbose=1,\n",
    "                        validation_data=(test_df, test_target),\n",
    "                        # callbacks=[early_stop, \n",
    "                        #            reduce_lr]\n",
    "                                )"
   ]
  },
  {
   "cell_type": "code",
   "execution_count": 109,
   "metadata": {},
   "outputs": [
    {
     "data": {
      "text/plain": [
       "<matplotlib.legend.Legend at 0x12ee8a89120>"
      ]
     },
     "execution_count": 109,
     "metadata": {},
     "output_type": "execute_result"
    },
    {
     "data": {
      "image/png": "[encoded data removed]",
      "text/plain": [
       "<Figure size 1500x400 with 2 Axes>"
      ]
     },
     "metadata": {},
     "output_type": "display_data"
    }
   ],
   "source": [
    "fig, (ax1, ax2) = plt.subplots(1, 2, figsize=(15, 4))\n",
    "ax1.plot(history.history['loss'], label='Training Loss')\n",
    "ax1.plot(history.history['val_loss'], label='Validation Loss')\n",
    "ax1.set_title('Training and Validation Loss')\n",
    "ax1.set_ylabel('Loss')\n",
    "ax1.set_xlabel('Epoch')\n",
    "ax1.legend()\n",
    "\n",
    "\n",
    "ax2.plot(history.history['accuracy'], label='Training Accuracy')\n",
    "ax2.plot(history.history['val_accuracy'], label='Validation Accuracy')\n",
    "ax2.set_title('Training and Validation Accuracy')\n",
    "ax2.set_ylabel('Accuracy')\n",
    "ax2.set_xlabel('Epoch')\n",
    "ax2.legend()"
   ]
  },
  {
   "cell_type": "code",
   "execution_count": 110,
   "metadata": {},
   "outputs": [
    {
     "name": "stdout",
     "output_type": "stream",
     "text": [
      "60/60 [==============================] - 4s 54ms/step\n",
      "13/13 [==============================] - 1s 55ms/step\n"
     ]
    }
   ],
   "source": [
    "train_predict= model.predict(train_df)\n",
    "\n",
    "test_predict= model.predict(test_df)"
   ]
  },
  {
   "cell_type": "code",
   "execution_count": 111,
   "metadata": {},
   "outputs": [
    {
     "data": {
      "text/plain": [
       "0.010217880722340138"
      ]
     },
     "execution_count": 111,
     "metadata": {},
     "output_type": "execute_result"
    }
   ],
   "source": [
    "import math\n",
    "from sklearn.metrics import mean_squared_error\n",
    "math.sqrt(mean_squared_error(train_target,train_predict))"
   ]
  },
  {
   "cell_type": "code",
   "execution_count": 112,
   "metadata": {},
   "outputs": [],
   "source": [
    "train_predict= scaler.inverse_transform(train_predict)\n",
    "\n",
    "test_predict= scaler.inverse_transform(test_predict)"
   ]
  },
  {
   "cell_type": "code",
   "execution_count": 113,
   "metadata": {},
   "outputs": [
    {
     "data": {
      "text/plain": [
       "array([[ 33.384117],\n",
       "       [ 33.20856 ],\n",
       "       [ 33.01729 ],\n",
       "       ...,\n",
       "       [143.3212  ],\n",
       "       [140.03249 ],\n",
       "       [144.61612 ]], dtype=float32)"
      ]
     },
     "execution_count": 113,
     "metadata": {},
     "output_type": "execute_result"
    }
   ],
   "source": [
    "train_predict"
   ]
  },
  {
   "cell_type": "code",
   "execution_count": 114,
   "metadata": {},
   "outputs": [
    {
     "name": "stdout",
     "output_type": "stream",
     "text": [
      "Training: 87.05881484579815\n",
      "Testing: 186.99076082856035\n"
     ]
    }
   ],
   "source": [
    "print('Training:', root_mean_squared_error(train_target, train_predict))\n",
    "\n",
    "print('Testing:',root_mean_squared_error(test_target, test_predict))"
   ]
  },
  {
   "cell_type": "code",
   "execution_count": 115,
   "metadata": {},
   "outputs": [
    {
     "data": {
      "image/png": "[encoded data removed]",
      "text/plain": [
       "<Figure size 600x400 with 1 Axes>"
      ]
     },
     "metadata": {},
     "output_type": "display_data"
    }
   ],
   "source": [
    "look_back=100\n",
    "trainPredictPlot = np.empty_like(df)\n",
    "trainPredictPlot[:, :] = np.nan\n",
    "trainPredictPlot[look_back:len(train_predict)+look_back, :] = train_predict\n",
    "\n",
    "\n",
    "# shift test predictions for plotting\n",
    "testPredictPlot = np.empty_like(df)\n",
    "testPredictPlot[:, :] = np.nan\n",
    "testPredictPlot[len(train_predict)+(look_back*2)+1 : len(train_predict)+(look_back*2)+1 + len(test_predict), :] = test_predict\n",
    "\n",
    "# plot baseline and predictions\n",
    "plt.plot(scaler.inverse_transform(df))\n",
    "plt.plot(trainPredictPlot)\n",
    "plt.plot(testPredictPlot)\n",
    "plt.show()"
   ]
  },
  {
   "cell_type": "code",
   "execution_count": 116,
   "metadata": {},
   "outputs": [
    {
     "data": {
      "text/plain": [
       "403"
      ]
     },
     "execution_count": 116,
     "metadata": {},
     "output_type": "execute_result"
    }
   ],
   "source": [
    "len(test_df)"
   ]
  },
  {
   "cell_type": "code",
   "execution_count": 132,
   "metadata": {},
   "outputs": [
    {
     "data": {
      "text/plain": [
       "(1, 100)"
      ]
     },
     "execution_count": 132,
     "metadata": {},
     "output_type": "execute_result"
    }
   ],
   "source": [
    "x_input=test_df[402:].reshape(1,-1)\n",
    "x_input.shape"
   ]
  },
  {
   "cell_type": "code",
   "execution_count": 133,
   "metadata": {},
   "outputs": [],
   "source": [
    "temp_input=list(x_input)\n",
    "temp_input=temp_input[0].tolist()"
   ]
  },
  {
   "cell_type": "code",
   "execution_count": 134,
   "metadata": {},
   "outputs": [
    {
     "data": {
      "text/plain": [
       "[0.7767097189031862,\n",
       " 0.7874996850068698,\n",
       " 0.788065072961396,\n",
       " 0.7882064199500274,\n",
       " 0.7937191681938216,\n",
       " 0.7998916315788582,\n",
       " 0.7930595249483008,\n",
       " 0.7741183095144606,\n",
       " 0.7887247162069169,\n",
       " 0.7887718798002752,\n",
       " 0.7901853496865905,\n",
       " 0.7948971076962321,\n",
       " 0.7994204270196057,\n",
       " 0.8078073505251102,\n",
       " 0.8093151475981417,\n",
       " 0.8164769680078778,\n",
       " 0.8099276272503044,\n",
       " 0.8212829813085143,\n",
       " 0.803519633481363,\n",
       " 0.8696255926049787,\n",
       " 0.8975192632902926,\n",
       " 0.9030320115340871,\n",
       " 0.8947864350172141,\n",
       " 0.91448154898757,\n",
       " 0.9032675419179916,\n",
       " 0.8815463346177144,\n",
       " 0.8712276449690053,\n",
       " 0.8742902589169836,\n",
       " 0.8786722312517257,\n",
       " 0.8983673452220817,\n",
       " 0.9023723682885658,\n",
       " 0.8859753986500931,\n",
       " 0.9148584982558279,\n",
       " 0.9314439065805686,\n",
       " 0.9374749510812523,\n",
       " 0.9600442403133189,\n",
       " 0.9670176939325081,\n",
       " 0.9710697368009071,\n",
       " 0.9913303106215108,\n",
       " 0.9658397544300976,\n",
       " 0.9798336095746696,\n",
       " 0.9980209983677157,\n",
       " 1.0,\n",
       " 0.9720121459194129,\n",
       " 0.9498668257575196,\n",
       " 0.9504793773054037,\n",
       " 0.9488303051394622,\n",
       " 0.9537775935330088,\n",
       " 0.9232925134589691,\n",
       " 0.9183452250654227,\n",
       " 0.9205597570816118,\n",
       " 0.9218790435726538,\n",
       " 0.9245176165547377,\n",
       " 0.9399721770747047,\n",
       " 0.92244443152718,\n",
       " 0.9295120685416427,\n",
       " 0.8796145684745096,\n",
       " 0.8700025418732364,\n",
       " 0.882206049758957,\n",
       " 0.8986500391993448,\n",
       " 0.9124555275533706,\n",
       " 0.9185336637516908,\n",
       " 0.9361556645902103,\n",
       " 0.9382759413154049,\n",
       " 0.95241121534433,\n",
       " 0.9586778621246401,\n",
       " 0.9579239635881243,\n",
       " 0.9608452305474713,\n",
       " 0.960326934290582,\n",
       " 0.9515159698191826,\n",
       " 0.9624001193181397,\n",
       " 0.9640020997864447,\n",
       " 0.9680071228529288,\n",
       " 0.9607510471521981,\n",
       " 0.9762997910674385,\n",
       " 0.9725775338739389,\n",
       " 0.9432233016046729,\n",
       " 0.9341767348536474,\n",
       " 0.9413857188567416,\n",
       " 0.934035387865016,\n",
       " 0.9344594288309105,\n",
       " 0.930690008044053,\n",
       " 0.9427050053477835,\n",
       " 0.9432233016046729,\n",
       " 0.9419511068112678,\n",
       " 0.9128324768216283,\n",
       " 0.9150469369420959,\n",
       " 0.9334228363171317,\n",
       " 0.9719649823260545,\n",
       " 0.9688081130870811,\n",
       " 0.960656791861203,\n",
       " 0.9648973453115921,\n",
       " 0.9601855873019502,\n",
       " 0.965604152150471,\n",
       " 0.966876275048155,\n",
       " 0.9914245659125058,\n",
       " 0.959431760661156,\n",
       " 0.9621174253408766,\n",
       " 0.9568873710743453,\n",
       " 0.9622116806318715]"
      ]
     },
     "execution_count": 134,
     "metadata": {},
     "output_type": "execute_result"
    }
   ],
   "source": [
    "temp_input"
   ]
  },
  {
   "cell_type": "code",
   "execution_count": 135,
   "metadata": {},
   "outputs": [
    {
     "name": "stdout",
     "output_type": "stream",
     "text": [
      "[0.9604643]\n",
      "101\n",
      "1 day input [0.78749969 0.78806507 0.78820642 0.79371917 0.79989163 0.79305952\n",
      " 0.77411831 0.78872472 0.78877188 0.79018535 0.79489711 0.79942043\n",
      " 0.80780735 0.80931515 0.81647697 0.80992763 0.82128298 0.80351963\n",
      " 0.86962559 0.89751926 0.90303201 0.89478644 0.91448155 0.90326754\n",
      " 0.88154633 0.87122764 0.87429026 0.87867223 0.89836735 0.90237237\n",
      " 0.8859754  0.9148585  0.93144391 0.93747495 0.96004424 0.96701769\n",
      " 0.97106974 0.99133031 0.96583975 0.97983361 0.998021   1.\n",
      " 0.97201215 0.94986683 0.95047938 0.94883031 0.95377759 0.92329251\n",
      " 0.91834523 0.92055976 0.92187904 0.92451762 0.93997218 0.92244443\n",
      " 0.92951207 0.87961457 0.87000254 0.88220605 0.89865004 0.91245553\n",
      " 0.91853366 0.93615566 0.93827594 0.95241122 0.95867786 0.95792396\n",
      " 0.96084523 0.96032693 0.95151597 0.96240012 0.9640021  0.96800712\n",
      " 0.96075105 0.97629979 0.97257753 0.9432233  0.93417673 0.94138572\n",
      " 0.93403539 0.93445943 0.93069001 0.94270501 0.9432233  0.94195111\n",
      " 0.91283248 0.91504694 0.93342284 0.97196498 0.96880811 0.96065679\n",
      " 0.96489735 0.96018559 0.96560415 0.96687628 0.99142457 0.95943176\n",
      " 0.96211743 0.95688737 0.96221168 0.9604643 ]\n",
      "1 day output [[0.9249081]]\n",
      "2 day input [0.78806507 0.78820642 0.79371917 0.79989163 0.79305952 0.77411831\n",
      " 0.78872472 0.78877188 0.79018535 0.79489711 0.79942043 0.80780735\n",
      " 0.80931515 0.81647697 0.80992763 0.82128298 0.80351963 0.86962559\n",
      " 0.89751926 0.90303201 0.89478644 0.91448155 0.90326754 0.88154633\n",
      " 0.87122764 0.87429026 0.87867223 0.89836735 0.90237237 0.8859754\n",
      " 0.9148585  0.93144391 0.93747495 0.96004424 0.96701769 0.97106974\n",
      " 0.99133031 0.96583975 0.97983361 0.998021   1.         0.97201215\n",
      " 0.94986683 0.95047938 0.94883031 0.95377759 0.92329251 0.91834523\n",
      " 0.92055976 0.92187904 0.92451762 0.93997218 0.92244443 0.92951207\n",
      " 0.87961457 0.87000254 0.88220605 0.89865004 0.91245553 0.91853366\n",
      " 0.93615566 0.93827594 0.95241122 0.95867786 0.95792396 0.96084523\n",
      " 0.96032693 0.95151597 0.96240012 0.9640021  0.96800712 0.96075105\n",
      " 0.97629979 0.97257753 0.9432233  0.93417673 0.94138572 0.93403539\n",
      " 0.93445943 0.93069001 0.94270501 0.9432233  0.94195111 0.91283248\n",
      " 0.91504694 0.93342284 0.97196498 0.96880811 0.96065679 0.96489735\n",
      " 0.96018559 0.96560415 0.96687628 0.99142457 0.95943176 0.96211743\n",
      " 0.95688737 0.96221168 0.9604643  0.9249081 ]\n",
      "2 day output [[0.8709946]]\n",
      "3 day input [0.78820642 0.79371917 0.79989163 0.79305952 0.77411831 0.78872472\n",
      " 0.78877188 0.79018535 0.79489711 0.79942043 0.80780735 0.80931515\n",
      " 0.81647697 0.80992763 0.82128298 0.80351963 0.86962559 0.89751926\n",
      " 0.90303201 0.89478644 0.91448155 0.90326754 0.88154633 0.87122764\n",
      " 0.87429026 0.87867223 0.89836735 0.90237237 0.8859754  0.9148585\n",
      " 0.93144391 0.93747495 0.96004424 0.96701769 0.97106974 0.99133031\n",
      " 0.96583975 0.97983361 0.998021   1.         0.97201215 0.94986683\n",
      " 0.95047938 0.94883031 0.95377759 0.92329251 0.91834523 0.92055976\n",
      " 0.92187904 0.92451762 0.93997218 0.92244443 0.92951207 0.87961457\n",
      " 0.87000254 0.88220605 0.89865004 0.91245553 0.91853366 0.93615566\n",
      " 0.93827594 0.95241122 0.95867786 0.95792396 0.96084523 0.96032693\n",
      " 0.95151597 0.96240012 0.9640021  0.96800712 0.96075105 0.97629979\n",
      " 0.97257753 0.9432233  0.93417673 0.94138572 0.93403539 0.93445943\n",
      " 0.93069001 0.94270501 0.9432233  0.94195111 0.91283248 0.91504694\n",
      " 0.93342284 0.97196498 0.96880811 0.96065679 0.96489735 0.96018559\n",
      " 0.96560415 0.96687628 0.99142457 0.95943176 0.96211743 0.95688737\n",
      " 0.96221168 0.9604643  0.9249081  0.87099463]\n",
      "3 day output [[0.8276906]]\n",
      "4 day input [0.79371917 0.79989163 0.79305952 0.77411831 0.78872472 0.78877188\n",
      " 0.79018535 0.79489711 0.79942043 0.80780735 0.80931515 0.81647697\n",
      " 0.80992763 0.82128298 0.80351963 0.86962559 0.89751926 0.90303201\n",
      " 0.89478644 0.91448155 0.90326754 0.88154633 0.87122764 0.87429026\n",
      " 0.87867223 0.89836735 0.90237237 0.8859754  0.9148585  0.93144391\n",
      " 0.93747495 0.96004424 0.96701769 0.97106974 0.99133031 0.96583975\n",
      " 0.97983361 0.998021   1.         0.97201215 0.94986683 0.95047938\n",
      " 0.94883031 0.95377759 0.92329251 0.91834523 0.92055976 0.92187904\n",
      " 0.92451762 0.93997218 0.92244443 0.92951207 0.87961457 0.87000254\n",
      " 0.88220605 0.89865004 0.91245553 0.91853366 0.93615566 0.93827594\n",
      " 0.95241122 0.95867786 0.95792396 0.96084523 0.96032693 0.95151597\n",
      " 0.96240012 0.9640021  0.96800712 0.96075105 0.97629979 0.97257753\n",
      " 0.9432233  0.93417673 0.94138572 0.93403539 0.93445943 0.93069001\n",
      " 0.94270501 0.9432233  0.94195111 0.91283248 0.91504694 0.93342284\n",
      " 0.97196498 0.96880811 0.96065679 0.96489735 0.96018559 0.96560415\n",
      " 0.96687628 0.99142457 0.95943176 0.96211743 0.95688737 0.96221168\n",
      " 0.9604643  0.9249081  0.87099463 0.8276906 ]\n",
      "4 day output [[0.80818385]]\n",
      "5 day input [0.79989163 0.79305952 0.77411831 0.78872472 0.78877188 0.79018535\n",
      " 0.79489711 0.79942043 0.80780735 0.80931515 0.81647697 0.80992763\n",
      " 0.82128298 0.80351963 0.86962559 0.89751926 0.90303201 0.89478644\n",
      " 0.91448155 0.90326754 0.88154633 0.87122764 0.87429026 0.87867223\n",
      " 0.89836735 0.90237237 0.8859754  0.9148585  0.93144391 0.93747495\n",
      " 0.96004424 0.96701769 0.97106974 0.99133031 0.96583975 0.97983361\n",
      " 0.998021   1.         0.97201215 0.94986683 0.95047938 0.94883031\n",
      " 0.95377759 0.92329251 0.91834523 0.92055976 0.92187904 0.92451762\n",
      " 0.93997218 0.92244443 0.92951207 0.87961457 0.87000254 0.88220605\n",
      " 0.89865004 0.91245553 0.91853366 0.93615566 0.93827594 0.95241122\n",
      " 0.95867786 0.95792396 0.96084523 0.96032693 0.95151597 0.96240012\n",
      " 0.9640021  0.96800712 0.96075105 0.97629979 0.97257753 0.9432233\n",
      " 0.93417673 0.94138572 0.93403539 0.93445943 0.93069001 0.94270501\n",
      " 0.9432233  0.94195111 0.91283248 0.91504694 0.93342284 0.97196498\n",
      " 0.96880811 0.96065679 0.96489735 0.96018559 0.96560415 0.96687628\n",
      " 0.99142457 0.95943176 0.96211743 0.95688737 0.96221168 0.9604643\n",
      " 0.9249081  0.87099463 0.8276906  0.80818385]\n",
      "5 day output [[0.8050979]]\n",
      "6 day input [0.79305952 0.77411831 0.78872472 0.78877188 0.79018535 0.79489711\n",
      " 0.79942043 0.80780735 0.80931515 0.81647697 0.80992763 0.82128298\n",
      " 0.80351963 0.86962559 0.89751926 0.90303201 0.89478644 0.91448155\n",
      " 0.90326754 0.88154633 0.87122764 0.87429026 0.87867223 0.89836735\n",
      " 0.90237237 0.8859754  0.9148585  0.93144391 0.93747495 0.96004424\n",
      " 0.96701769 0.97106974 0.99133031 0.96583975 0.97983361 0.998021\n",
      " 1.         0.97201215 0.94986683 0.95047938 0.94883031 0.95377759\n",
      " 0.92329251 0.91834523 0.92055976 0.92187904 0.92451762 0.93997218\n",
      " 0.92244443 0.92951207 0.87961457 0.87000254 0.88220605 0.89865004\n",
      " 0.91245553 0.91853366 0.93615566 0.93827594 0.95241122 0.95867786\n",
      " 0.95792396 0.96084523 0.96032693 0.95151597 0.96240012 0.9640021\n",
      " 0.96800712 0.96075105 0.97629979 0.97257753 0.9432233  0.93417673\n",
      " 0.94138572 0.93403539 0.93445943 0.93069001 0.94270501 0.9432233\n",
      " 0.94195111 0.91283248 0.91504694 0.93342284 0.97196498 0.96880811\n",
      " 0.96065679 0.96489735 0.96018559 0.96560415 0.96687628 0.99142457\n",
      " 0.95943176 0.96211743 0.95688737 0.96221168 0.9604643  0.9249081\n",
      " 0.87099463 0.8276906  0.80818385 0.80509788]\n",
      "6 day output [[0.8047156]]\n",
      "7 day input [0.77411831 0.78872472 0.78877188 0.79018535 0.79489711 0.79942043\n",
      " 0.80780735 0.80931515 0.81647697 0.80992763 0.82128298 0.80351963\n",
      " 0.86962559 0.89751926 0.90303201 0.89478644 0.91448155 0.90326754\n",
      " 0.88154633 0.87122764 0.87429026 0.87867223 0.89836735 0.90237237\n",
      " 0.8859754  0.9148585  0.93144391 0.93747495 0.96004424 0.96701769\n",
      " 0.97106974 0.99133031 0.96583975 0.97983361 0.998021   1.\n",
      " 0.97201215 0.94986683 0.95047938 0.94883031 0.95377759 0.92329251\n",
      " 0.91834523 0.92055976 0.92187904 0.92451762 0.93997218 0.92244443\n",
      " 0.92951207 0.87961457 0.87000254 0.88220605 0.89865004 0.91245553\n",
      " 0.91853366 0.93615566 0.93827594 0.95241122 0.95867786 0.95792396\n",
      " 0.96084523 0.96032693 0.95151597 0.96240012 0.9640021  0.96800712\n",
      " 0.96075105 0.97629979 0.97257753 0.9432233  0.93417673 0.94138572\n",
      " 0.93403539 0.93445943 0.93069001 0.94270501 0.9432233  0.94195111\n",
      " 0.91283248 0.91504694 0.93342284 0.97196498 0.96880811 0.96065679\n",
      " 0.96489735 0.96018559 0.96560415 0.96687628 0.99142457 0.95943176\n",
      " 0.96211743 0.95688737 0.96221168 0.9604643  0.9249081  0.87099463\n",
      " 0.8276906  0.80818385 0.80509788 0.80471557]\n",
      "7 day output [[0.7996877]]\n",
      "8 day input [0.78872472 0.78877188 0.79018535 0.79489711 0.79942043 0.80780735\n",
      " 0.80931515 0.81647697 0.80992763 0.82128298 0.80351963 0.86962559\n",
      " 0.89751926 0.90303201 0.89478644 0.91448155 0.90326754 0.88154633\n",
      " 0.87122764 0.87429026 0.87867223 0.89836735 0.90237237 0.8859754\n",
      " 0.9148585  0.93144391 0.93747495 0.96004424 0.96701769 0.97106974\n",
      " 0.99133031 0.96583975 0.97983361 0.998021   1.         0.97201215\n",
      " 0.94986683 0.95047938 0.94883031 0.95377759 0.92329251 0.91834523\n",
      " 0.92055976 0.92187904 0.92451762 0.93997218 0.92244443 0.92951207\n",
      " 0.87961457 0.87000254 0.88220605 0.89865004 0.91245553 0.91853366\n",
      " 0.93615566 0.93827594 0.95241122 0.95867786 0.95792396 0.96084523\n",
      " 0.96032693 0.95151597 0.96240012 0.9640021  0.96800712 0.96075105\n",
      " 0.97629979 0.97257753 0.9432233  0.93417673 0.94138572 0.93403539\n",
      " 0.93445943 0.93069001 0.94270501 0.9432233  0.94195111 0.91283248\n",
      " 0.91504694 0.93342284 0.97196498 0.96880811 0.96065679 0.96489735\n",
      " 0.96018559 0.96560415 0.96687628 0.99142457 0.95943176 0.96211743\n",
      " 0.95688737 0.96221168 0.9604643  0.9249081  0.87099463 0.8276906\n",
      " 0.80818385 0.80509788 0.80471557 0.79968768]\n",
      "8 day output [[0.7904455]]\n",
      "9 day input [0.78877188 0.79018535 0.79489711 0.79942043 0.80780735 0.80931515\n",
      " 0.81647697 0.80992763 0.82128298 0.80351963 0.86962559 0.89751926\n",
      " 0.90303201 0.89478644 0.91448155 0.90326754 0.88154633 0.87122764\n",
      " 0.87429026 0.87867223 0.89836735 0.90237237 0.8859754  0.9148585\n",
      " 0.93144391 0.93747495 0.96004424 0.96701769 0.97106974 0.99133031\n",
      " 0.96583975 0.97983361 0.998021   1.         0.97201215 0.94986683\n",
      " 0.95047938 0.94883031 0.95377759 0.92329251 0.91834523 0.92055976\n",
      " 0.92187904 0.92451762 0.93997218 0.92244443 0.92951207 0.87961457\n",
      " 0.87000254 0.88220605 0.89865004 0.91245553 0.91853366 0.93615566\n",
      " 0.93827594 0.95241122 0.95867786 0.95792396 0.96084523 0.96032693\n",
      " 0.95151597 0.96240012 0.9640021  0.96800712 0.96075105 0.97629979\n",
      " 0.97257753 0.9432233  0.93417673 0.94138572 0.93403539 0.93445943\n",
      " 0.93069001 0.94270501 0.9432233  0.94195111 0.91283248 0.91504694\n",
      " 0.93342284 0.97196498 0.96880811 0.96065679 0.96489735 0.96018559\n",
      " 0.96560415 0.96687628 0.99142457 0.95943176 0.96211743 0.95688737\n",
      " 0.96221168 0.9604643  0.9249081  0.87099463 0.8276906  0.80818385\n",
      " 0.80509788 0.80471557 0.79968768 0.79044551]\n",
      "9 day output [[0.7805131]]\n",
      "10 day input [0.79018535 0.79489711 0.79942043 0.80780735 0.80931515 0.81647697\n",
      " 0.80992763 0.82128298 0.80351963 0.86962559 0.89751926 0.90303201\n",
      " 0.89478644 0.91448155 0.90326754 0.88154633 0.87122764 0.87429026\n",
      " 0.87867223 0.89836735 0.90237237 0.8859754  0.9148585  0.93144391\n",
      " 0.93747495 0.96004424 0.96701769 0.97106974 0.99133031 0.96583975\n",
      " 0.97983361 0.998021   1.         0.97201215 0.94986683 0.95047938\n",
      " 0.94883031 0.95377759 0.92329251 0.91834523 0.92055976 0.92187904\n",
      " 0.92451762 0.93997218 0.92244443 0.92951207 0.87961457 0.87000254\n",
      " 0.88220605 0.89865004 0.91245553 0.91853366 0.93615566 0.93827594\n",
      " 0.95241122 0.95867786 0.95792396 0.96084523 0.96032693 0.95151597\n",
      " 0.96240012 0.9640021  0.96800712 0.96075105 0.97629979 0.97257753\n",
      " 0.9432233  0.93417673 0.94138572 0.93403539 0.93445943 0.93069001\n",
      " 0.94270501 0.9432233  0.94195111 0.91283248 0.91504694 0.93342284\n",
      " 0.97196498 0.96880811 0.96065679 0.96489735 0.96018559 0.96560415\n",
      " 0.96687628 0.99142457 0.95943176 0.96211743 0.95688737 0.96221168\n",
      " 0.9604643  0.9249081  0.87099463 0.8276906  0.80818385 0.80509788\n",
      " 0.80471557 0.79968768 0.79044551 0.78051311]\n",
      "10 day output [[0.77248627]]\n",
      "11 day input [0.79489711 0.79942043 0.80780735 0.80931515 0.81647697 0.80992763\n",
      " 0.82128298 0.80351963 0.86962559 0.89751926 0.90303201 0.89478644\n",
      " 0.91448155 0.90326754 0.88154633 0.87122764 0.87429026 0.87867223\n",
      " 0.89836735 0.90237237 0.8859754  0.9148585  0.93144391 0.93747495\n",
      " 0.96004424 0.96701769 0.97106974 0.99133031 0.96583975 0.97983361\n",
      " 0.998021   1.         0.97201215 0.94986683 0.95047938 0.94883031\n",
      " 0.95377759 0.92329251 0.91834523 0.92055976 0.92187904 0.92451762\n",
      " 0.93997218 0.92244443 0.92951207 0.87961457 0.87000254 0.88220605\n",
      " 0.89865004 0.91245553 0.91853366 0.93615566 0.93827594 0.95241122\n",
      " 0.95867786 0.95792396 0.96084523 0.96032693 0.95151597 0.96240012\n",
      " 0.9640021  0.96800712 0.96075105 0.97629979 0.97257753 0.9432233\n",
      " 0.93417673 0.94138572 0.93403539 0.93445943 0.93069001 0.94270501\n",
      " 0.9432233  0.94195111 0.91283248 0.91504694 0.93342284 0.97196498\n",
      " 0.96880811 0.96065679 0.96489735 0.96018559 0.96560415 0.96687628\n",
      " 0.99142457 0.95943176 0.96211743 0.95688737 0.96221168 0.9604643\n",
      " 0.9249081  0.87099463 0.8276906  0.80818385 0.80509788 0.80471557\n",
      " 0.79968768 0.79044551 0.78051311 0.77248627]\n",
      "11 day output [[0.76692116]]\n",
      "12 day input [0.79942043 0.80780735 0.80931515 0.81647697 0.80992763 0.82128298\n",
      " 0.80351963 0.86962559 0.89751926 0.90303201 0.89478644 0.91448155\n",
      " 0.90326754 0.88154633 0.87122764 0.87429026 0.87867223 0.89836735\n",
      " 0.90237237 0.8859754  0.9148585  0.93144391 0.93747495 0.96004424\n",
      " 0.96701769 0.97106974 0.99133031 0.96583975 0.97983361 0.998021\n",
      " 1.         0.97201215 0.94986683 0.95047938 0.94883031 0.95377759\n",
      " 0.92329251 0.91834523 0.92055976 0.92187904 0.92451762 0.93997218\n",
      " 0.92244443 0.92951207 0.87961457 0.87000254 0.88220605 0.89865004\n",
      " 0.91245553 0.91853366 0.93615566 0.93827594 0.95241122 0.95867786\n",
      " 0.95792396 0.96084523 0.96032693 0.95151597 0.96240012 0.9640021\n",
      " 0.96800712 0.96075105 0.97629979 0.97257753 0.9432233  0.93417673\n",
      " 0.94138572 0.93403539 0.93445943 0.93069001 0.94270501 0.9432233\n",
      " 0.94195111 0.91283248 0.91504694 0.93342284 0.97196498 0.96880811\n",
      " 0.96065679 0.96489735 0.96018559 0.96560415 0.96687628 0.99142457\n",
      " 0.95943176 0.96211743 0.95688737 0.96221168 0.9604643  0.9249081\n",
      " 0.87099463 0.8276906  0.80818385 0.80509788 0.80471557 0.79968768\n",
      " 0.79044551 0.78051311 0.77248627 0.76692116]\n",
      "12 day output [[0.7631289]]\n",
      "13 day input [0.80780735 0.80931515 0.81647697 0.80992763 0.82128298 0.80351963\n",
      " 0.86962559 0.89751926 0.90303201 0.89478644 0.91448155 0.90326754\n",
      " 0.88154633 0.87122764 0.87429026 0.87867223 0.89836735 0.90237237\n",
      " 0.8859754  0.9148585  0.93144391 0.93747495 0.96004424 0.96701769\n",
      " 0.97106974 0.99133031 0.96583975 0.97983361 0.998021   1.\n",
      " 0.97201215 0.94986683 0.95047938 0.94883031 0.95377759 0.92329251\n",
      " 0.91834523 0.92055976 0.92187904 0.92451762 0.93997218 0.92244443\n",
      " 0.92951207 0.87961457 0.87000254 0.88220605 0.89865004 0.91245553\n",
      " 0.91853366 0.93615566 0.93827594 0.95241122 0.95867786 0.95792396\n",
      " 0.96084523 0.96032693 0.95151597 0.96240012 0.9640021  0.96800712\n",
      " 0.96075105 0.97629979 0.97257753 0.9432233  0.93417673 0.94138572\n",
      " 0.93403539 0.93445943 0.93069001 0.94270501 0.9432233  0.94195111\n",
      " 0.91283248 0.91504694 0.93342284 0.97196498 0.96880811 0.96065679\n",
      " 0.96489735 0.96018559 0.96560415 0.96687628 0.99142457 0.95943176\n",
      " 0.96211743 0.95688737 0.96221168 0.9604643  0.9249081  0.87099463\n",
      " 0.8276906  0.80818385 0.80509788 0.80471557 0.79968768 0.79044551\n",
      " 0.78051311 0.77248627 0.76692116 0.76312888]\n",
      "13 day output [[0.76024634]]\n",
      "14 day input [0.80931515 0.81647697 0.80992763 0.82128298 0.80351963 0.86962559\n",
      " 0.89751926 0.90303201 0.89478644 0.91448155 0.90326754 0.88154633\n",
      " 0.87122764 0.87429026 0.87867223 0.89836735 0.90237237 0.8859754\n",
      " 0.9148585  0.93144391 0.93747495 0.96004424 0.96701769 0.97106974\n",
      " 0.99133031 0.96583975 0.97983361 0.998021   1.         0.97201215\n",
      " 0.94986683 0.95047938 0.94883031 0.95377759 0.92329251 0.91834523\n",
      " 0.92055976 0.92187904 0.92451762 0.93997218 0.92244443 0.92951207\n",
      " 0.87961457 0.87000254 0.88220605 0.89865004 0.91245553 0.91853366\n",
      " 0.93615566 0.93827594 0.95241122 0.95867786 0.95792396 0.96084523\n",
      " 0.96032693 0.95151597 0.96240012 0.9640021  0.96800712 0.96075105\n",
      " 0.97629979 0.97257753 0.9432233  0.93417673 0.94138572 0.93403539\n",
      " 0.93445943 0.93069001 0.94270501 0.9432233  0.94195111 0.91283248\n",
      " 0.91504694 0.93342284 0.97196498 0.96880811 0.96065679 0.96489735\n",
      " 0.96018559 0.96560415 0.96687628 0.99142457 0.95943176 0.96211743\n",
      " 0.95688737 0.96221168 0.9604643  0.9249081  0.87099463 0.8276906\n",
      " 0.80818385 0.80509788 0.80471557 0.79968768 0.79044551 0.78051311\n",
      " 0.77248627 0.76692116 0.76312888 0.76024634]\n",
      "14 day output [[0.75776446]]\n",
      "15 day input [0.81647697 0.80992763 0.82128298 0.80351963 0.86962559 0.89751926\n",
      " 0.90303201 0.89478644 0.91448155 0.90326754 0.88154633 0.87122764\n",
      " 0.87429026 0.87867223 0.89836735 0.90237237 0.8859754  0.9148585\n",
      " 0.93144391 0.93747495 0.96004424 0.96701769 0.97106974 0.99133031\n",
      " 0.96583975 0.97983361 0.998021   1.         0.97201215 0.94986683\n",
      " 0.95047938 0.94883031 0.95377759 0.92329251 0.91834523 0.92055976\n",
      " 0.92187904 0.92451762 0.93997218 0.92244443 0.92951207 0.87961457\n",
      " 0.87000254 0.88220605 0.89865004 0.91245553 0.91853366 0.93615566\n",
      " 0.93827594 0.95241122 0.95867786 0.95792396 0.96084523 0.96032693\n",
      " 0.95151597 0.96240012 0.9640021  0.96800712 0.96075105 0.97629979\n",
      " 0.97257753 0.9432233  0.93417673 0.94138572 0.93403539 0.93445943\n",
      " 0.93069001 0.94270501 0.9432233  0.94195111 0.91283248 0.91504694\n",
      " 0.93342284 0.97196498 0.96880811 0.96065679 0.96489735 0.96018559\n",
      " 0.96560415 0.96687628 0.99142457 0.95943176 0.96211743 0.95688737\n",
      " 0.96221168 0.9604643  0.9249081  0.87099463 0.8276906  0.80818385\n",
      " 0.80509788 0.80471557 0.79968768 0.79044551 0.78051311 0.77248627\n",
      " 0.76692116 0.76312888 0.76024634 0.75776446]\n",
      "15 day output [[0.7555342]]\n",
      "16 day input [0.80992763 0.82128298 0.80351963 0.86962559 0.89751926 0.90303201\n",
      " 0.89478644 0.91448155 0.90326754 0.88154633 0.87122764 0.87429026\n",
      " 0.87867223 0.89836735 0.90237237 0.8859754  0.9148585  0.93144391\n",
      " 0.93747495 0.96004424 0.96701769 0.97106974 0.99133031 0.96583975\n",
      " 0.97983361 0.998021   1.         0.97201215 0.94986683 0.95047938\n",
      " 0.94883031 0.95377759 0.92329251 0.91834523 0.92055976 0.92187904\n",
      " 0.92451762 0.93997218 0.92244443 0.92951207 0.87961457 0.87000254\n",
      " 0.88220605 0.89865004 0.91245553 0.91853366 0.93615566 0.93827594\n",
      " 0.95241122 0.95867786 0.95792396 0.96084523 0.96032693 0.95151597\n",
      " 0.96240012 0.9640021  0.96800712 0.96075105 0.97629979 0.97257753\n",
      " 0.9432233  0.93417673 0.94138572 0.93403539 0.93445943 0.93069001\n",
      " 0.94270501 0.9432233  0.94195111 0.91283248 0.91504694 0.93342284\n",
      " 0.97196498 0.96880811 0.96065679 0.96489735 0.96018559 0.96560415\n",
      " 0.96687628 0.99142457 0.95943176 0.96211743 0.95688737 0.96221168\n",
      " 0.9604643  0.9249081  0.87099463 0.8276906  0.80818385 0.80509788\n",
      " 0.80471557 0.79968768 0.79044551 0.78051311 0.77248627 0.76692116\n",
      " 0.76312888 0.76024634 0.75776446 0.75553417]\n",
      "16 day output [[0.75357735]]\n",
      "17 day input [0.82128298 0.80351963 0.86962559 0.89751926 0.90303201 0.89478644\n",
      " 0.91448155 0.90326754 0.88154633 0.87122764 0.87429026 0.87867223\n",
      " 0.89836735 0.90237237 0.8859754  0.9148585  0.93144391 0.93747495\n",
      " 0.96004424 0.96701769 0.97106974 0.99133031 0.96583975 0.97983361\n",
      " 0.998021   1.         0.97201215 0.94986683 0.95047938 0.94883031\n",
      " 0.95377759 0.92329251 0.91834523 0.92055976 0.92187904 0.92451762\n",
      " 0.93997218 0.92244443 0.92951207 0.87961457 0.87000254 0.88220605\n",
      " 0.89865004 0.91245553 0.91853366 0.93615566 0.93827594 0.95241122\n",
      " 0.95867786 0.95792396 0.96084523 0.96032693 0.95151597 0.96240012\n",
      " 0.9640021  0.96800712 0.96075105 0.97629979 0.97257753 0.9432233\n",
      " 0.93417673 0.94138572 0.93403539 0.93445943 0.93069001 0.94270501\n",
      " 0.9432233  0.94195111 0.91283248 0.91504694 0.93342284 0.97196498\n",
      " 0.96880811 0.96065679 0.96489735 0.96018559 0.96560415 0.96687628\n",
      " 0.99142457 0.95943176 0.96211743 0.95688737 0.96221168 0.9604643\n",
      " 0.9249081  0.87099463 0.8276906  0.80818385 0.80509788 0.80471557\n",
      " 0.79968768 0.79044551 0.78051311 0.77248627 0.76692116 0.76312888\n",
      " 0.76024634 0.75776446 0.75553417 0.75357735]\n",
      "17 day output [[0.75193197]]\n",
      "18 day input [0.80351963 0.86962559 0.89751926 0.90303201 0.89478644 0.91448155\n",
      " 0.90326754 0.88154633 0.87122764 0.87429026 0.87867223 0.89836735\n",
      " 0.90237237 0.8859754  0.9148585  0.93144391 0.93747495 0.96004424\n",
      " 0.96701769 0.97106974 0.99133031 0.96583975 0.97983361 0.998021\n",
      " 1.         0.97201215 0.94986683 0.95047938 0.94883031 0.95377759\n",
      " 0.92329251 0.91834523 0.92055976 0.92187904 0.92451762 0.93997218\n",
      " 0.92244443 0.92951207 0.87961457 0.87000254 0.88220605 0.89865004\n",
      " 0.91245553 0.91853366 0.93615566 0.93827594 0.95241122 0.95867786\n",
      " 0.95792396 0.96084523 0.96032693 0.95151597 0.96240012 0.9640021\n",
      " 0.96800712 0.96075105 0.97629979 0.97257753 0.9432233  0.93417673\n",
      " 0.94138572 0.93403539 0.93445943 0.93069001 0.94270501 0.9432233\n",
      " 0.94195111 0.91283248 0.91504694 0.93342284 0.97196498 0.96880811\n",
      " 0.96065679 0.96489735 0.96018559 0.96560415 0.96687628 0.99142457\n",
      " 0.95943176 0.96211743 0.95688737 0.96221168 0.9604643  0.9249081\n",
      " 0.87099463 0.8276906  0.80818385 0.80509788 0.80471557 0.79968768\n",
      " 0.79044551 0.78051311 0.77248627 0.76692116 0.76312888 0.76024634\n",
      " 0.75776446 0.75553417 0.75357735 0.75193197]\n",
      "18 day output [[0.7505932]]\n",
      "19 day input [0.86962559 0.89751926 0.90303201 0.89478644 0.91448155 0.90326754\n",
      " 0.88154633 0.87122764 0.87429026 0.87867223 0.89836735 0.90237237\n",
      " 0.8859754  0.9148585  0.93144391 0.93747495 0.96004424 0.96701769\n",
      " 0.97106974 0.99133031 0.96583975 0.97983361 0.998021   1.\n",
      " 0.97201215 0.94986683 0.95047938 0.94883031 0.95377759 0.92329251\n",
      " 0.91834523 0.92055976 0.92187904 0.92451762 0.93997218 0.92244443\n",
      " 0.92951207 0.87961457 0.87000254 0.88220605 0.89865004 0.91245553\n",
      " 0.91853366 0.93615566 0.93827594 0.95241122 0.95867786 0.95792396\n",
      " 0.96084523 0.96032693 0.95151597 0.96240012 0.9640021  0.96800712\n",
      " 0.96075105 0.97629979 0.97257753 0.9432233  0.93417673 0.94138572\n",
      " 0.93403539 0.93445943 0.93069001 0.94270501 0.9432233  0.94195111\n",
      " 0.91283248 0.91504694 0.93342284 0.97196498 0.96880811 0.96065679\n",
      " 0.96489735 0.96018559 0.96560415 0.96687628 0.99142457 0.95943176\n",
      " 0.96211743 0.95688737 0.96221168 0.9604643  0.9249081  0.87099463\n",
      " 0.8276906  0.80818385 0.80509788 0.80471557 0.79968768 0.79044551\n",
      " 0.78051311 0.77248627 0.76692116 0.76312888 0.76024634 0.75776446\n",
      " 0.75553417 0.75357735 0.75193197 0.75059319]\n",
      "19 day output [[0.74951947]]\n",
      "20 day input [0.89751926 0.90303201 0.89478644 0.91448155 0.90326754 0.88154633\n",
      " 0.87122764 0.87429026 0.87867223 0.89836735 0.90237237 0.8859754\n",
      " 0.9148585  0.93144391 0.93747495 0.96004424 0.96701769 0.97106974\n",
      " 0.99133031 0.96583975 0.97983361 0.998021   1.         0.97201215\n",
      " 0.94986683 0.95047938 0.94883031 0.95377759 0.92329251 0.91834523\n",
      " 0.92055976 0.92187904 0.92451762 0.93997218 0.92244443 0.92951207\n",
      " 0.87961457 0.87000254 0.88220605 0.89865004 0.91245553 0.91853366\n",
      " 0.93615566 0.93827594 0.95241122 0.95867786 0.95792396 0.96084523\n",
      " 0.96032693 0.95151597 0.96240012 0.9640021  0.96800712 0.96075105\n",
      " 0.97629979 0.97257753 0.9432233  0.93417673 0.94138572 0.93403539\n",
      " 0.93445943 0.93069001 0.94270501 0.9432233  0.94195111 0.91283248\n",
      " 0.91504694 0.93342284 0.97196498 0.96880811 0.96065679 0.96489735\n",
      " 0.96018559 0.96560415 0.96687628 0.99142457 0.95943176 0.96211743\n",
      " 0.95688737 0.96221168 0.9604643  0.9249081  0.87099463 0.8276906\n",
      " 0.80818385 0.80509788 0.80471557 0.79968768 0.79044551 0.78051311\n",
      " 0.77248627 0.76692116 0.76312888 0.76024634 0.75776446 0.75553417\n",
      " 0.75357735 0.75193197 0.75059319 0.74951947]\n",
      "20 day output [[0.7486577]]\n",
      "21 day input [0.90303201 0.89478644 0.91448155 0.90326754 0.88154633 0.87122764\n",
      " 0.87429026 0.87867223 0.89836735 0.90237237 0.8859754  0.9148585\n",
      " 0.93144391 0.93747495 0.96004424 0.96701769 0.97106974 0.99133031\n",
      " 0.96583975 0.97983361 0.998021   1.         0.97201215 0.94986683\n",
      " 0.95047938 0.94883031 0.95377759 0.92329251 0.91834523 0.92055976\n",
      " 0.92187904 0.92451762 0.93997218 0.92244443 0.92951207 0.87961457\n",
      " 0.87000254 0.88220605 0.89865004 0.91245553 0.91853366 0.93615566\n",
      " 0.93827594 0.95241122 0.95867786 0.95792396 0.96084523 0.96032693\n",
      " 0.95151597 0.96240012 0.9640021  0.96800712 0.96075105 0.97629979\n",
      " 0.97257753 0.9432233  0.93417673 0.94138572 0.93403539 0.93445943\n",
      " 0.93069001 0.94270501 0.9432233  0.94195111 0.91283248 0.91504694\n",
      " 0.93342284 0.97196498 0.96880811 0.96065679 0.96489735 0.96018559\n",
      " 0.96560415 0.96687628 0.99142457 0.95943176 0.96211743 0.95688737\n",
      " 0.96221168 0.9604643  0.9249081  0.87099463 0.8276906  0.80818385\n",
      " 0.80509788 0.80471557 0.79968768 0.79044551 0.78051311 0.77248627\n",
      " 0.76692116 0.76312888 0.76024634 0.75776446 0.75553417 0.75357735\n",
      " 0.75193197 0.75059319 0.74951947 0.7486577 ]\n",
      "21 day output [[0.7479596]]\n",
      "22 day input [0.89478644 0.91448155 0.90326754 0.88154633 0.87122764 0.87429026\n",
      " 0.87867223 0.89836735 0.90237237 0.8859754  0.9148585  0.93144391\n",
      " 0.93747495 0.96004424 0.96701769 0.97106974 0.99133031 0.96583975\n",
      " 0.97983361 0.998021   1.         0.97201215 0.94986683 0.95047938\n",
      " 0.94883031 0.95377759 0.92329251 0.91834523 0.92055976 0.92187904\n",
      " 0.92451762 0.93997218 0.92244443 0.92951207 0.87961457 0.87000254\n",
      " 0.88220605 0.89865004 0.91245553 0.91853366 0.93615566 0.93827594\n",
      " 0.95241122 0.95867786 0.95792396 0.96084523 0.96032693 0.95151597\n",
      " 0.96240012 0.9640021  0.96800712 0.96075105 0.97629979 0.97257753\n",
      " 0.9432233  0.93417673 0.94138572 0.93403539 0.93445943 0.93069001\n",
      " 0.94270501 0.9432233  0.94195111 0.91283248 0.91504694 0.93342284\n",
      " 0.97196498 0.96880811 0.96065679 0.96489735 0.96018559 0.96560415\n",
      " 0.96687628 0.99142457 0.95943176 0.96211743 0.95688737 0.96221168\n",
      " 0.9604643  0.9249081  0.87099463 0.8276906  0.80818385 0.80509788\n",
      " 0.80471557 0.79968768 0.79044551 0.78051311 0.77248627 0.76692116\n",
      " 0.76312888 0.76024634 0.75776446 0.75553417 0.75357735 0.75193197\n",
      " 0.75059319 0.74951947 0.7486577  0.74795961]\n",
      "22 day output [[0.74739]]\n",
      "23 day input [0.91448155 0.90326754 0.88154633 0.87122764 0.87429026 0.87867223\n",
      " 0.89836735 0.90237237 0.8859754  0.9148585  0.93144391 0.93747495\n",
      " 0.96004424 0.96701769 0.97106974 0.99133031 0.96583975 0.97983361\n",
      " 0.998021   1.         0.97201215 0.94986683 0.95047938 0.94883031\n",
      " 0.95377759 0.92329251 0.91834523 0.92055976 0.92187904 0.92451762\n",
      " 0.93997218 0.92244443 0.92951207 0.87961457 0.87000254 0.88220605\n",
      " 0.89865004 0.91245553 0.91853366 0.93615566 0.93827594 0.95241122\n",
      " 0.95867786 0.95792396 0.96084523 0.96032693 0.95151597 0.96240012\n",
      " 0.9640021  0.96800712 0.96075105 0.97629979 0.97257753 0.9432233\n",
      " 0.93417673 0.94138572 0.93403539 0.93445943 0.93069001 0.94270501\n",
      " 0.9432233  0.94195111 0.91283248 0.91504694 0.93342284 0.97196498\n",
      " 0.96880811 0.96065679 0.96489735 0.96018559 0.96560415 0.96687628\n",
      " 0.99142457 0.95943176 0.96211743 0.95688737 0.96221168 0.9604643\n",
      " 0.9249081  0.87099463 0.8276906  0.80818385 0.80509788 0.80471557\n",
      " 0.79968768 0.79044551 0.78051311 0.77248627 0.76692116 0.76312888\n",
      " 0.76024634 0.75776446 0.75553417 0.75357735 0.75193197 0.75059319\n",
      " 0.74951947 0.7486577  0.74795961 0.74738997]\n",
      "23 day output [[0.7469236]]\n",
      "24 day input [0.90326754 0.88154633 0.87122764 0.87429026 0.87867223 0.89836735\n",
      " 0.90237237 0.8859754  0.9148585  0.93144391 0.93747495 0.96004424\n",
      " 0.96701769 0.97106974 0.99133031 0.96583975 0.97983361 0.998021\n",
      " 1.         0.97201215 0.94986683 0.95047938 0.94883031 0.95377759\n",
      " 0.92329251 0.91834523 0.92055976 0.92187904 0.92451762 0.93997218\n",
      " 0.92244443 0.92951207 0.87961457 0.87000254 0.88220605 0.89865004\n",
      " 0.91245553 0.91853366 0.93615566 0.93827594 0.95241122 0.95867786\n",
      " 0.95792396 0.96084523 0.96032693 0.95151597 0.96240012 0.9640021\n",
      " 0.96800712 0.96075105 0.97629979 0.97257753 0.9432233  0.93417673\n",
      " 0.94138572 0.93403539 0.93445943 0.93069001 0.94270501 0.9432233\n",
      " 0.94195111 0.91283248 0.91504694 0.93342284 0.97196498 0.96880811\n",
      " 0.96065679 0.96489735 0.96018559 0.96560415 0.96687628 0.99142457\n",
      " 0.95943176 0.96211743 0.95688737 0.96221168 0.9604643  0.9249081\n",
      " 0.87099463 0.8276906  0.80818385 0.80509788 0.80471557 0.79968768\n",
      " 0.79044551 0.78051311 0.77248627 0.76692116 0.76312888 0.76024634\n",
      " 0.75776446 0.75553417 0.75357735 0.75193197 0.75059319 0.74951947\n",
      " 0.7486577  0.74795961 0.74738997 0.74692363]\n",
      "24 day output [[0.74654263]]\n",
      "25 day input [0.88154633 0.87122764 0.87429026 0.87867223 0.89836735 0.90237237\n",
      " 0.8859754  0.9148585  0.93144391 0.93747495 0.96004424 0.96701769\n",
      " 0.97106974 0.99133031 0.96583975 0.97983361 0.998021   1.\n",
      " 0.97201215 0.94986683 0.95047938 0.94883031 0.95377759 0.92329251\n",
      " 0.91834523 0.92055976 0.92187904 0.92451762 0.93997218 0.92244443\n",
      " 0.92951207 0.87961457 0.87000254 0.88220605 0.89865004 0.91245553\n",
      " 0.91853366 0.93615566 0.93827594 0.95241122 0.95867786 0.95792396\n",
      " 0.96084523 0.96032693 0.95151597 0.96240012 0.9640021  0.96800712\n",
      " 0.96075105 0.97629979 0.97257753 0.9432233  0.93417673 0.94138572\n",
      " 0.93403539 0.93445943 0.93069001 0.94270501 0.9432233  0.94195111\n",
      " 0.91283248 0.91504694 0.93342284 0.97196498 0.96880811 0.96065679\n",
      " 0.96489735 0.96018559 0.96560415 0.96687628 0.99142457 0.95943176\n",
      " 0.96211743 0.95688737 0.96221168 0.9604643  0.9249081  0.87099463\n",
      " 0.8276906  0.80818385 0.80509788 0.80471557 0.79968768 0.79044551\n",
      " 0.78051311 0.77248627 0.76692116 0.76312888 0.76024634 0.75776446\n",
      " 0.75553417 0.75357735 0.75193197 0.75059319 0.74951947 0.7486577\n",
      " 0.74795961 0.74738997 0.74692363 0.74654263]\n",
      "25 day output [[0.7462325]]\n",
      "26 day input [0.87122764 0.87429026 0.87867223 0.89836735 0.90237237 0.8859754\n",
      " 0.9148585  0.93144391 0.93747495 0.96004424 0.96701769 0.97106974\n",
      " 0.99133031 0.96583975 0.97983361 0.998021   1.         0.97201215\n",
      " 0.94986683 0.95047938 0.94883031 0.95377759 0.92329251 0.91834523\n",
      " 0.92055976 0.92187904 0.92451762 0.93997218 0.92244443 0.92951207\n",
      " 0.87961457 0.87000254 0.88220605 0.89865004 0.91245553 0.91853366\n",
      " 0.93615566 0.93827594 0.95241122 0.95867786 0.95792396 0.96084523\n",
      " 0.96032693 0.95151597 0.96240012 0.9640021  0.96800712 0.96075105\n",
      " 0.97629979 0.97257753 0.9432233  0.93417673 0.94138572 0.93403539\n",
      " 0.93445943 0.93069001 0.94270501 0.9432233  0.94195111 0.91283248\n",
      " 0.91504694 0.93342284 0.97196498 0.96880811 0.96065679 0.96489735\n",
      " 0.96018559 0.96560415 0.96687628 0.99142457 0.95943176 0.96211743\n",
      " 0.95688737 0.96221168 0.9604643  0.9249081  0.87099463 0.8276906\n",
      " 0.80818385 0.80509788 0.80471557 0.79968768 0.79044551 0.78051311\n",
      " 0.77248627 0.76692116 0.76312888 0.76024634 0.75776446 0.75553417\n",
      " 0.75357735 0.75193197 0.75059319 0.74951947 0.7486577  0.74795961\n",
      " 0.74738997 0.74692363 0.74654263 0.74623251]\n",
      "26 day output [[0.74598044]]\n",
      "27 day input [0.87429026 0.87867223 0.89836735 0.90237237 0.8859754  0.9148585\n",
      " 0.93144391 0.93747495 0.96004424 0.96701769 0.97106974 0.99133031\n",
      " 0.96583975 0.97983361 0.998021   1.         0.97201215 0.94986683\n",
      " 0.95047938 0.94883031 0.95377759 0.92329251 0.91834523 0.92055976\n",
      " 0.92187904 0.92451762 0.93997218 0.92244443 0.92951207 0.87961457\n",
      " 0.87000254 0.88220605 0.89865004 0.91245553 0.91853366 0.93615566\n",
      " 0.93827594 0.95241122 0.95867786 0.95792396 0.96084523 0.96032693\n",
      " 0.95151597 0.96240012 0.9640021  0.96800712 0.96075105 0.97629979\n",
      " 0.97257753 0.9432233  0.93417673 0.94138572 0.93403539 0.93445943\n",
      " 0.93069001 0.94270501 0.9432233  0.94195111 0.91283248 0.91504694\n",
      " 0.93342284 0.97196498 0.96880811 0.96065679 0.96489735 0.96018559\n",
      " 0.96560415 0.96687628 0.99142457 0.95943176 0.96211743 0.95688737\n",
      " 0.96221168 0.9604643  0.9249081  0.87099463 0.8276906  0.80818385\n",
      " 0.80509788 0.80471557 0.79968768 0.79044551 0.78051311 0.77248627\n",
      " 0.76692116 0.76312888 0.76024634 0.75776446 0.75553417 0.75357735\n",
      " 0.75193197 0.75059319 0.74951947 0.7486577  0.74795961 0.74738997\n",
      " 0.74692363 0.74654263 0.74623251 0.74598044]\n",
      "27 day output [[0.7457765]]\n",
      "28 day input [0.87867223 0.89836735 0.90237237 0.8859754  0.9148585  0.93144391\n",
      " 0.93747495 0.96004424 0.96701769 0.97106974 0.99133031 0.96583975\n",
      " 0.97983361 0.998021   1.         0.97201215 0.94986683 0.95047938\n",
      " 0.94883031 0.95377759 0.92329251 0.91834523 0.92055976 0.92187904\n",
      " 0.92451762 0.93997218 0.92244443 0.92951207 0.87961457 0.87000254\n",
      " 0.88220605 0.89865004 0.91245553 0.91853366 0.93615566 0.93827594\n",
      " 0.95241122 0.95867786 0.95792396 0.96084523 0.96032693 0.95151597\n",
      " 0.96240012 0.9640021  0.96800712 0.96075105 0.97629979 0.97257753\n",
      " 0.9432233  0.93417673 0.94138572 0.93403539 0.93445943 0.93069001\n",
      " 0.94270501 0.9432233  0.94195111 0.91283248 0.91504694 0.93342284\n",
      " 0.97196498 0.96880811 0.96065679 0.96489735 0.96018559 0.96560415\n",
      " 0.96687628 0.99142457 0.95943176 0.96211743 0.95688737 0.96221168\n",
      " 0.9604643  0.9249081  0.87099463 0.8276906  0.80818385 0.80509788\n",
      " 0.80471557 0.79968768 0.79044551 0.78051311 0.77248627 0.76692116\n",
      " 0.76312888 0.76024634 0.75776446 0.75553417 0.75357735 0.75193197\n",
      " 0.75059319 0.74951947 0.7486577  0.74795961 0.74738997 0.74692363\n",
      " 0.74654263 0.74623251 0.74598044 0.74577647]\n",
      "28 day output [[0.7456112]]\n",
      "29 day input [0.89836735 0.90237237 0.8859754  0.9148585  0.93144391 0.93747495\n",
      " 0.96004424 0.96701769 0.97106974 0.99133031 0.96583975 0.97983361\n",
      " 0.998021   1.         0.97201215 0.94986683 0.95047938 0.94883031\n",
      " 0.95377759 0.92329251 0.91834523 0.92055976 0.92187904 0.92451762\n",
      " 0.93997218 0.92244443 0.92951207 0.87961457 0.87000254 0.88220605\n",
      " 0.89865004 0.91245553 0.91853366 0.93615566 0.93827594 0.95241122\n",
      " 0.95867786 0.95792396 0.96084523 0.96032693 0.95151597 0.96240012\n",
      " 0.9640021  0.96800712 0.96075105 0.97629979 0.97257753 0.9432233\n",
      " 0.93417673 0.94138572 0.93403539 0.93445943 0.93069001 0.94270501\n",
      " 0.9432233  0.94195111 0.91283248 0.91504694 0.93342284 0.97196498\n",
      " 0.96880811 0.96065679 0.96489735 0.96018559 0.96560415 0.96687628\n",
      " 0.99142457 0.95943176 0.96211743 0.95688737 0.96221168 0.9604643\n",
      " 0.9249081  0.87099463 0.8276906  0.80818385 0.80509788 0.80471557\n",
      " 0.79968768 0.79044551 0.78051311 0.77248627 0.76692116 0.76312888\n",
      " 0.76024634 0.75776446 0.75553417 0.75357735 0.75193197 0.75059319\n",
      " 0.74951947 0.7486577  0.74795961 0.74738997 0.74692363 0.74654263\n",
      " 0.74623251 0.74598044 0.74577647 0.74561119]\n",
      "29 day output [[0.745477]]\n",
      "[[0.9604642987251282], [0.9249081015586853], [0.8709946274757385], [0.827690601348877], [0.8081838488578796], [0.8050978779792786], [0.8047155737876892], [0.7996876835823059], [0.7904455065727234], [0.7805131077766418], [0.7724862694740295], [0.7669211626052856], [0.7631288766860962], [0.7602463364601135], [0.757764458656311], [0.7555341720581055], [0.7535773515701294], [0.7519319653511047], [0.7505931854248047], [0.7495194673538208], [0.7486577033996582], [0.7479596138000488], [0.7473899722099304], [0.7469236254692078], [0.7465426325798035], [0.7462325096130371], [0.745980441570282], [0.7457764744758606], [0.7456111907958984], [0.745477020740509]]\n"
     ]
    }
   ],
   "source": [
    "from numpy import array\n",
    "\n",
    "lst_output=[]\n",
    "n_steps=100\n",
    "i=0\n",
    "while(i<30):\n",
    "    \n",
    "    if(len(temp_input)>100):\n",
    "        #print(temp_input)\n",
    "        x_input=np.array(temp_input[1:])\n",
    "        print(\"{} day input {}\".format(i,x_input))\n",
    "        x_input=x_input.reshape(1,-1)\n",
    "        x_input = x_input.reshape((1, n_steps, 1))\n",
    "        #print(x_input)\n",
    "        yhat = model.predict(x_input, verbose=0)\n",
    "        print(\"{} day output {}\".format(i,yhat))\n",
    "        temp_input.extend(yhat[0].tolist())\n",
    "        temp_input=temp_input[1:]\n",
    "        #print(temp_input)\n",
    "        lst_output.extend(yhat.tolist())\n",
    "        i=i+1\n",
    "    else:\n",
    "        x_input = x_input.reshape((1, n_steps,1))\n",
    "        yhat = model.predict(x_input, verbose=0)\n",
    "        print(yhat[0])\n",
    "        temp_input.extend(yhat[0].tolist())\n",
    "        print(len(temp_input))\n",
    "        lst_output.extend(yhat.tolist())\n",
    "        i=i+1\n",
    "    \n",
    "\n",
    "print(lst_output)"
   ]
  },
  {
   "cell_type": "code",
   "execution_count": 136,
   "metadata": {},
   "outputs": [],
   "source": [
    "day_new=np.arange(1,101)\n",
    "day_pred=np.arange(101,131)"
   ]
  },
  {
   "cell_type": "code",
   "execution_count": 137,
   "metadata": {},
   "outputs": [
    {
     "data": {
      "text/plain": [
       "2517"
      ]
     },
     "execution_count": 137,
     "metadata": {},
     "output_type": "execute_result"
    }
   ],
   "source": [
    "len(df)"
   ]
  },
  {
   "cell_type": "code",
   "execution_count": 140,
   "metadata": {},
   "outputs": [
    {
     "data": {
      "text/plain": [
       "[<matplotlib.lines.Line2D at 0x12ef5023bb0>]"
      ]
     },
     "execution_count": 140,
     "metadata": {},
     "output_type": "execute_result"
    },
    {
     "data": {
      "image/png": "[encoded data removed]",
      "text/plain": [
       "<Figure size 600x400 with 1 Axes>"
      ]
     },
     "metadata": {},
     "output_type": "display_data"
    }
   ],
   "source": [
    "plt.plot(day_new,scaler.inverse_transform(df[len(df)-100:]))\n",
    "plt.plot(day_pred,scaler.inverse_transform(lst_output))"
   ]
  },
  {
   "cell_type": "code",
   "execution_count": 144,
   "metadata": {},
   "outputs": [
    {
     "data": {
      "text/plain": [
       "[<matplotlib.lines.Line2D at 0x12ef5194af0>]"
      ]
     },
     "execution_count": 144,
     "metadata": {},
     "output_type": "execute_result"
    },
    {
     "data": {
      "image/png": "[encoded data removed]",
      "text/plain": [
       "<Figure size 600x400 with 1 Axes>"
      ]
     },
     "metadata": {},
     "output_type": "display_data"
    }
   ],
   "source": [
    "df_new=df.tolist()\n",
    "df_new.extend(lst_output)\n",
    "plt.plot(df_new[100:])"
   ]
  }
 ],
 "metadata": {
  "kernelspec": {
   "display_name": "test1",
   "language": "python",
   "name": "python3"
  },
  "language_info": {
   "codemirror_mode": {
    "name": "ipython",
    "version": 3
   },
   "file_extension": ".py",
   "mimetype": "text/x-python",
   "name": "python",
   "nbconvert_exporter": "python",
   "pygments_lexer": "ipython3",
   "version": "3.10.14"
  }
 },
 "nbformat": 4,
 "nbformat_minor": 2
}
