{
 "cells": [
  {
   "cell_type": "code",
   "execution_count": 1,
   "metadata": {},
   "outputs": [],
   "source": [
    "import numpy as np\n",
    "import pandas as pd\n",
    "import matplotlib.pyplot as plt\n",
    "import seaborn as sns\n",
    "import os\n",
    "import opendatasets as od\n",
    "%matplotlib inline"
   ]
  },
  {
   "cell_type": "code",
   "execution_count": 2,
   "metadata": {},
   "outputs": [
    {
     "name": "stdout",
     "output_type": "stream",
     "text": [
      "Please provide your Kaggle credentials to download this dataset. Learn more: http://bit.ly/kaggle-creds\n",
      "Your Kaggle username:Your Kaggle Key:Dataset URL: https://www.kaggle.com/datasets/mohansacharya/graduate-admissions\n",
      "Downloading graduate-admissions.zip to .\\graduate-admissions\n"
     ]
    },
    {
     "name": "stderr",
     "output_type": "stream",
     "text": [
      "100%|██████████| 9.64k/9.64k [00:00<?, ?B/s]"
     ]
    },
    {
     "name": "stdout",
     "output_type": "stream",
     "text": [
      "\n"
     ]
    },
    {
     "name": "stderr",
     "output_type": "stream",
     "text": [
      "\n"
     ]
    }
   ],
   "source": [
    "od.download('https://www.kaggle.com/datasets/mohansacharya/graduate-admissions/code')"
   ]
  },
  {
   "cell_type": "code",
   "execution_count": 3,
   "metadata": {},
   "outputs": [
    {
     "data": {
      "text/html": [
       "<div>\n",
       "<style scoped>\n",
       "    .dataframe tbody tr th:only-of-type {\n",
       "        vertical-align: middle;\n",
       "    }\n",
       "\n",
       "    .dataframe tbody tr th {\n",
       "        vertical-align: top;\n",
       "    }\n",
       "\n",
       "    .dataframe thead th {\n",
       "        text-align: right;\n",
       "    }\n",
       "</style>\n",
       "<table border=\"1\" class=\"dataframe\">\n",
       "  <thead>\n",
       "    <tr style=\"text-align: right;\">\n",
       "      <th></th>\n",
       "      <th>Serial No.</th>\n",
       "      <th>GRE Score</th>\n",
       "      <th>TOEFL Score</th>\n",
       "      <th>University Rating</th>\n",
       "      <th>SOP</th>\n",
       "      <th>LOR</th>\n",
       "      <th>CGPA</th>\n",
       "      <th>Research</th>\n",
       "      <th>Chance of Admit</th>\n",
       "    </tr>\n",
       "  </thead>\n",
       "  <tbody>\n",
       "    <tr>\n",
       "      <th>0</th>\n",
       "      <td>1</td>\n",
       "      <td>337</td>\n",
       "      <td>118</td>\n",
       "      <td>4</td>\n",
       "      <td>4.5</td>\n",
       "      <td>4.5</td>\n",
       "      <td>9.65</td>\n",
       "      <td>1</td>\n",
       "      <td>0.92</td>\n",
       "    </tr>\n",
       "    <tr>\n",
       "      <th>1</th>\n",
       "      <td>2</td>\n",
       "      <td>324</td>\n",
       "      <td>107</td>\n",
       "      <td>4</td>\n",
       "      <td>4.0</td>\n",
       "      <td>4.5</td>\n",
       "      <td>8.87</td>\n",
       "      <td>1</td>\n",
       "      <td>0.76</td>\n",
       "    </tr>\n",
       "    <tr>\n",
       "      <th>2</th>\n",
       "      <td>3</td>\n",
       "      <td>316</td>\n",
       "      <td>104</td>\n",
       "      <td>3</td>\n",
       "      <td>3.0</td>\n",
       "      <td>3.5</td>\n",
       "      <td>8.00</td>\n",
       "      <td>1</td>\n",
       "      <td>0.72</td>\n",
       "    </tr>\n",
       "    <tr>\n",
       "      <th>3</th>\n",
       "      <td>4</td>\n",
       "      <td>322</td>\n",
       "      <td>110</td>\n",
       "      <td>3</td>\n",
       "      <td>3.5</td>\n",
       "      <td>2.5</td>\n",
       "      <td>8.67</td>\n",
       "      <td>1</td>\n",
       "      <td>0.80</td>\n",
       "    </tr>\n",
       "    <tr>\n",
       "      <th>4</th>\n",
       "      <td>5</td>\n",
       "      <td>314</td>\n",
       "      <td>103</td>\n",
       "      <td>2</td>\n",
       "      <td>2.0</td>\n",
       "      <td>3.0</td>\n",
       "      <td>8.21</td>\n",
       "      <td>0</td>\n",
       "      <td>0.65</td>\n",
       "    </tr>\n",
       "  </tbody>\n",
       "</table>\n",
       "</div>"
      ],
      "text/plain": [
       "   Serial No.  GRE Score  TOEFL Score  University Rating  SOP  LOR   CGPA  \\\n",
       "0           1        337          118                  4  4.5   4.5  9.65   \n",
       "1           2        324          107                  4  4.0   4.5  8.87   \n",
       "2           3        316          104                  3  3.0   3.5  8.00   \n",
       "3           4        322          110                  3  3.5   2.5  8.67   \n",
       "4           5        314          103                  2  2.0   3.0  8.21   \n",
       "\n",
       "   Research  Chance of Admit   \n",
       "0         1              0.92  \n",
       "1         1              0.76  \n",
       "2         1              0.72  \n",
       "3         1              0.80  \n",
       "4         0              0.65  "
      ]
     },
     "execution_count": 3,
     "metadata": {},
     "output_type": "execute_result"
    }
   ],
   "source": [
    "os.listdir('graduate-admissions')\n",
    "\n",
    "df = pd.read_csv('graduate-admissions/Admission_Predict_Ver1.1.csv')\n",
    "df.head()"
   ]
  },
  {
   "cell_type": "code",
   "execution_count": 4,
   "metadata": {},
   "outputs": [
    {
     "name": "stdout",
     "output_type": "stream",
     "text": [
      "<class 'pandas.core.frame.DataFrame'>\n",
      "RangeIndex: 500 entries, 0 to 499\n",
      "Data columns (total 9 columns):\n",
      " #   Column             Non-Null Count  Dtype  \n",
      "---  ------             --------------  -----  \n",
      " 0   Serial No.         500 non-null    int64  \n",
      " 1   GRE Score          500 non-null    int64  \n",
      " 2   TOEFL Score        500 non-null    int64  \n",
      " 3   University Rating  500 non-null    int64  \n",
      " 4   SOP                500 non-null    float64\n",
      " 5   LOR                500 non-null    float64\n",
      " 6   CGPA               500 non-null    float64\n",
      " 7   Research           500 non-null    int64  \n",
      " 8   Chance of Admit    500 non-null    float64\n",
      "dtypes: float64(4), int64(5)\n",
      "memory usage: 35.3 KB\n"
     ]
    }
   ],
   "source": [
    "df.info()"
   ]
  },
  {
   "cell_type": "code",
   "execution_count": 6,
   "metadata": {},
   "outputs": [
    {
     "data": {
      "text/plain": [
       "0"
      ]
     },
     "execution_count": 6,
     "metadata": {},
     "output_type": "execute_result"
    }
   ],
   "source": [
    "df.duplicated().sum()"
   ]
  },
  {
   "cell_type": "code",
   "execution_count": 7,
   "metadata": {},
   "outputs": [
    {
     "data": {
      "text/plain": [
       "Research\n",
       "1    280\n",
       "0    220\n",
       "Name: count, dtype: int64"
      ]
     },
     "execution_count": 7,
     "metadata": {},
     "output_type": "execute_result"
    }
   ],
   "source": [
    "df.Research.value_counts()"
   ]
  },
  {
   "cell_type": "code",
   "execution_count": 8,
   "metadata": {},
   "outputs": [],
   "source": [
    "df.drop(columns=['Serial No.'], inplace= True)"
   ]
  },
  {
   "cell_type": "code",
   "execution_count": 9,
   "metadata": {},
   "outputs": [],
   "source": [
    "X=df.iloc[:,0:-1]"
   ]
  },
  {
   "cell_type": "code",
   "execution_count": 10,
   "metadata": {},
   "outputs": [],
   "source": [
    "Y=df.iloc[:,-1]"
   ]
  },
  {
   "cell_type": "code",
   "execution_count": 11,
   "metadata": {},
   "outputs": [],
   "source": [
    "from sklearn.model_selection import train_test_split\n",
    "\n",
    "X_train, X_test, Y_train, Y_test= train_test_split(X,Y, test_size=0.2, random_state=42)"
   ]
  },
  {
   "cell_type": "code",
   "execution_count": 12,
   "metadata": {},
   "outputs": [],
   "source": [
    "from sklearn.preprocessing import MinMaxScaler\n",
    "\n",
    "scaler = MinMaxScaler()\n",
    "X_train_scaled= scaler.fit_transform(X_train)\n",
    "X_test_scaled= scaler.transform(X_test)"
   ]
  },
  {
   "cell_type": "code",
   "execution_count": 13,
   "metadata": {},
   "outputs": [],
   "source": [
    "import tensorflow\n",
    "from tensorflow import keras\n",
    "from tensorflow.keras import Sequential\n",
    "from tensorflow.keras.layers import Dense"
   ]
  },
  {
   "cell_type": "code",
   "execution_count": 46,
   "metadata": {},
   "outputs": [],
   "source": [
    "model = Sequential()\n",
    "\n",
    "model.add(Dense(7, activation='relu', input_dim=7))\n",
    "model.add(Dense(15, activation='relu'))\n",
    "model.add(Dense(30, activation='relu'))\n",
    "model.add(Dense(1, activation='linear'))"
   ]
  },
  {
   "cell_type": "code",
   "execution_count": 47,
   "metadata": {},
   "outputs": [
    {
     "name": "stdout",
     "output_type": "stream",
     "text": [
      "Model: \"sequential_5\"\n",
      "_________________________________________________________________\n",
      " Layer (type)                Output Shape              Param #   \n",
      "=================================================================\n",
      " dense_15 (Dense)            (None, 7)                 56        \n",
      "                                                                 \n",
      " dense_16 (Dense)            (None, 15)                120       \n",
      "                                                                 \n",
      " dense_17 (Dense)            (None, 30)                480       \n",
      "                                                                 \n",
      " dense_18 (Dense)            (None, 1)                 31        \n",
      "                                                                 \n",
      "=================================================================\n",
      "Total params: 687\n",
      "Trainable params: 687\n",
      "Non-trainable params: 0\n",
      "_________________________________________________________________\n"
     ]
    }
   ],
   "source": [
    "model.summary()"
   ]
  },
  {
   "cell_type": "code",
   "execution_count": 48,
   "metadata": {},
   "outputs": [],
   "source": [
    "model.compile(loss='mean_squared_error', optimizer='Adam')"
   ]
  },
  {
   "cell_type": "code",
   "execution_count": 49,
   "metadata": {},
   "outputs": [
    {
     "name": "stdout",
     "output_type": "stream",
     "text": [
      "Epoch 1/150\n",
      "10/10 [==============================] - 1s 49ms/step - loss: 0.6210 - val_loss: 0.4839\n",
      "Epoch 2/150\n",
      "10/10 [==============================] - 0s 11ms/step - loss: 0.3796 - val_loss: 0.2776\n",
      "Epoch 3/150\n",
      "10/10 [==============================] - 0s 15ms/step - loss: 0.1960 - val_loss: 0.1225\n",
      "Epoch 4/150\n",
      "10/10 [==============================] - 0s 10ms/step - loss: 0.0694 - val_loss: 0.0313\n",
      "Epoch 5/150\n",
      "10/10 [==============================] - 0s 9ms/step - loss: 0.0152 - val_loss: 0.0114\n",
      "Epoch 6/150\n",
      "10/10 [==============================] - 0s 10ms/step - loss: 0.0130 - val_loss: 0.0146\n",
      "Epoch 7/150\n",
      "10/10 [==============================] - 0s 9ms/step - loss: 0.0123 - val_loss: 0.0111\n",
      "Epoch 8/150\n",
      "10/10 [==============================] - 0s 17ms/step - loss: 0.0095 - val_loss: 0.0107\n",
      "Epoch 9/150\n",
      "10/10 [==============================] - 0s 11ms/step - loss: 0.0092 - val_loss: 0.0107\n",
      "Epoch 10/150\n",
      "10/10 [==============================] - 0s 9ms/step - loss: 0.0090 - val_loss: 0.0100\n",
      "Epoch 11/150\n",
      "10/10 [==============================] - 0s 8ms/step - loss: 0.0087 - val_loss: 0.0096\n",
      "Epoch 12/150\n",
      "10/10 [==============================] - 0s 8ms/step - loss: 0.0084 - val_loss: 0.0094\n",
      "Epoch 13/150\n",
      "10/10 [==============================] - 0s 9ms/step - loss: 0.0082 - val_loss: 0.0092\n",
      "Epoch 14/150\n",
      "10/10 [==============================] - 0s 9ms/step - loss: 0.0080 - val_loss: 0.0090\n",
      "Epoch 15/150\n",
      "10/10 [==============================] - 0s 10ms/step - loss: 0.0078 - val_loss: 0.0087\n",
      "Epoch 16/150\n",
      "10/10 [==============================] - 0s 10ms/step - loss: 0.0076 - val_loss: 0.0084\n",
      "Epoch 17/150\n",
      "10/10 [==============================] - 0s 9ms/step - loss: 0.0074 - val_loss: 0.0082\n",
      "Epoch 18/150\n",
      "10/10 [==============================] - 0s 11ms/step - loss: 0.0072 - val_loss: 0.0079\n",
      "Epoch 19/150\n",
      "10/10 [==============================] - 0s 10ms/step - loss: 0.0071 - val_loss: 0.0077\n",
      "Epoch 20/150\n",
      "10/10 [==============================] - 0s 9ms/step - loss: 0.0069 - val_loss: 0.0075\n",
      "Epoch 21/150\n",
      "10/10 [==============================] - 0s 10ms/step - loss: 0.0068 - val_loss: 0.0073\n",
      "Epoch 22/150\n",
      "10/10 [==============================] - 0s 10ms/step - loss: 0.0066 - val_loss: 0.0072\n",
      "Epoch 23/150\n",
      "10/10 [==============================] - 0s 9ms/step - loss: 0.0065 - val_loss: 0.0070\n",
      "Epoch 24/150\n",
      "10/10 [==============================] - 0s 11ms/step - loss: 0.0064 - val_loss: 0.0069\n",
      "Epoch 25/150\n",
      "10/10 [==============================] - 0s 11ms/step - loss: 0.0062 - val_loss: 0.0068\n",
      "Epoch 26/150\n",
      "10/10 [==============================] - 0s 22ms/step - loss: 0.0061 - val_loss: 0.0067\n",
      "Epoch 27/150\n",
      "10/10 [==============================] - 0s 10ms/step - loss: 0.0060 - val_loss: 0.0067\n",
      "Epoch 28/150\n",
      "10/10 [==============================] - 0s 9ms/step - loss: 0.0059 - val_loss: 0.0065\n",
      "Epoch 29/150\n",
      "10/10 [==============================] - 0s 9ms/step - loss: 0.0058 - val_loss: 0.0064\n",
      "Epoch 30/150\n",
      "10/10 [==============================] - 0s 10ms/step - loss: 0.0057 - val_loss: 0.0063\n",
      "Epoch 31/150\n",
      "10/10 [==============================] - 0s 10ms/step - loss: 0.0056 - val_loss: 0.0062\n",
      "Epoch 32/150\n",
      "10/10 [==============================] - 0s 10ms/step - loss: 0.0056 - val_loss: 0.0062\n",
      "Epoch 33/150\n",
      "10/10 [==============================] - 0s 14ms/step - loss: 0.0055 - val_loss: 0.0060\n",
      "Epoch 34/150\n",
      "10/10 [==============================] - 0s 13ms/step - loss: 0.0055 - val_loss: 0.0060\n",
      "Epoch 35/150\n",
      "10/10 [==============================] - 0s 12ms/step - loss: 0.0054 - val_loss: 0.0059\n",
      "Epoch 36/150\n",
      "10/10 [==============================] - 0s 12ms/step - loss: 0.0053 - val_loss: 0.0059\n",
      "Epoch 37/150\n",
      "10/10 [==============================] - 0s 11ms/step - loss: 0.0053 - val_loss: 0.0058\n",
      "Epoch 38/150\n",
      "10/10 [==============================] - 0s 12ms/step - loss: 0.0052 - val_loss: 0.0058\n",
      "Epoch 39/150\n",
      "10/10 [==============================] - 0s 12ms/step - loss: 0.0052 - val_loss: 0.0056\n",
      "Epoch 40/150\n",
      "10/10 [==============================] - 0s 10ms/step - loss: 0.0052 - val_loss: 0.0057\n",
      "Epoch 41/150\n",
      "10/10 [==============================] - 0s 11ms/step - loss: 0.0051 - val_loss: 0.0055\n",
      "Epoch 42/150\n",
      "10/10 [==============================] - 0s 23ms/step - loss: 0.0051 - val_loss: 0.0056\n",
      "Epoch 43/150\n",
      "10/10 [==============================] - 0s 12ms/step - loss: 0.0051 - val_loss: 0.0054\n",
      "Epoch 44/150\n",
      "10/10 [==============================] - 0s 13ms/step - loss: 0.0050 - val_loss: 0.0054\n",
      "Epoch 45/150\n",
      "10/10 [==============================] - 0s 16ms/step - loss: 0.0050 - val_loss: 0.0053\n",
      "Epoch 46/150\n",
      "10/10 [==============================] - 0s 14ms/step - loss: 0.0050 - val_loss: 0.0053\n",
      "Epoch 47/150\n",
      "10/10 [==============================] - 0s 15ms/step - loss: 0.0050 - val_loss: 0.0053\n",
      "Epoch 48/150\n",
      "10/10 [==============================] - 0s 14ms/step - loss: 0.0049 - val_loss: 0.0052\n",
      "Epoch 49/150\n",
      "10/10 [==============================] - 0s 17ms/step - loss: 0.0049 - val_loss: 0.0052\n",
      "Epoch 50/150\n",
      "10/10 [==============================] - 0s 15ms/step - loss: 0.0049 - val_loss: 0.0051\n",
      "Epoch 51/150\n",
      "10/10 [==============================] - 0s 11ms/step - loss: 0.0049 - val_loss: 0.0051\n",
      "Epoch 52/150\n",
      "10/10 [==============================] - 0s 14ms/step - loss: 0.0049 - val_loss: 0.0050\n",
      "Epoch 53/150\n",
      "10/10 [==============================] - 0s 16ms/step - loss: 0.0049 - val_loss: 0.0050\n",
      "Epoch 54/150\n",
      "10/10 [==============================] - 0s 23ms/step - loss: 0.0048 - val_loss: 0.0049\n",
      "Epoch 55/150\n",
      "10/10 [==============================] - 0s 12ms/step - loss: 0.0048 - val_loss: 0.0049\n",
      "Epoch 56/150\n",
      "10/10 [==============================] - 0s 14ms/step - loss: 0.0048 - val_loss: 0.0047\n",
      "Epoch 57/150\n",
      "10/10 [==============================] - 0s 16ms/step - loss: 0.0047 - val_loss: 0.0046\n",
      "Epoch 58/150\n",
      "10/10 [==============================] - 0s 18ms/step - loss: 0.0046 - val_loss: 0.0044\n",
      "Epoch 59/150\n",
      "10/10 [==============================] - 0s 14ms/step - loss: 0.0045 - val_loss: 0.0044\n",
      "Epoch 60/150\n",
      "10/10 [==============================] - 0s 16ms/step - loss: 0.0045 - val_loss: 0.0044\n",
      "Epoch 61/150\n",
      "10/10 [==============================] - 0s 16ms/step - loss: 0.0045 - val_loss: 0.0044\n",
      "Epoch 62/150\n",
      "10/10 [==============================] - 0s 16ms/step - loss: 0.0045 - val_loss: 0.0044\n",
      "Epoch 63/150\n",
      "10/10 [==============================] - 0s 9ms/step - loss: 0.0044 - val_loss: 0.0042\n",
      "Epoch 64/150\n",
      "10/10 [==============================] - 0s 19ms/step - loss: 0.0044 - val_loss: 0.0042\n",
      "Epoch 65/150\n",
      "10/10 [==============================] - 0s 12ms/step - loss: 0.0044 - val_loss: 0.0042\n",
      "Epoch 66/150\n",
      "10/10 [==============================] - 0s 12ms/step - loss: 0.0044 - val_loss: 0.0043\n",
      "Epoch 67/150\n",
      "10/10 [==============================] - 0s 11ms/step - loss: 0.0043 - val_loss: 0.0041\n",
      "Epoch 68/150\n",
      "10/10 [==============================] - 0s 12ms/step - loss: 0.0043 - val_loss: 0.0041\n",
      "Epoch 69/150\n",
      "10/10 [==============================] - 0s 12ms/step - loss: 0.0043 - val_loss: 0.0041\n",
      "Epoch 70/150\n",
      "10/10 [==============================] - 0s 11ms/step - loss: 0.0043 - val_loss: 0.0041\n",
      "Epoch 71/150\n",
      "10/10 [==============================] - 0s 9ms/step - loss: 0.0043 - val_loss: 0.0041\n",
      "Epoch 72/150\n",
      "10/10 [==============================] - 0s 10ms/step - loss: 0.0043 - val_loss: 0.0040\n",
      "Epoch 73/150\n",
      "10/10 [==============================] - 0s 11ms/step - loss: 0.0043 - val_loss: 0.0040\n",
      "Epoch 74/150\n",
      "10/10 [==============================] - 0s 11ms/step - loss: 0.0042 - val_loss: 0.0041\n",
      "Epoch 75/150\n",
      "10/10 [==============================] - 0s 10ms/step - loss: 0.0043 - val_loss: 0.0040\n",
      "Epoch 76/150\n",
      "10/10 [==============================] - 0s 11ms/step - loss: 0.0042 - val_loss: 0.0040\n",
      "Epoch 77/150\n",
      "10/10 [==============================] - 0s 11ms/step - loss: 0.0042 - val_loss: 0.0040\n",
      "Epoch 78/150\n",
      "10/10 [==============================] - 0s 10ms/step - loss: 0.0042 - val_loss: 0.0040\n",
      "Epoch 79/150\n",
      "10/10 [==============================] - 0s 16ms/step - loss: 0.0042 - val_loss: 0.0039\n",
      "Epoch 80/150\n",
      "10/10 [==============================] - 0s 11ms/step - loss: 0.0042 - val_loss: 0.0039\n",
      "Epoch 81/150\n",
      "10/10 [==============================] - 0s 9ms/step - loss: 0.0042 - val_loss: 0.0040\n",
      "Epoch 82/150\n",
      "10/10 [==============================] - 0s 7ms/step - loss: 0.0042 - val_loss: 0.0039\n",
      "Epoch 83/150\n",
      "10/10 [==============================] - 0s 7ms/step - loss: 0.0042 - val_loss: 0.0039\n",
      "Epoch 84/150\n",
      "10/10 [==============================] - 0s 8ms/step - loss: 0.0042 - val_loss: 0.0039\n",
      "Epoch 85/150\n",
      "10/10 [==============================] - 0s 7ms/step - loss: 0.0041 - val_loss: 0.0039\n",
      "Epoch 86/150\n",
      "10/10 [==============================] - 0s 8ms/step - loss: 0.0042 - val_loss: 0.0039\n",
      "Epoch 87/150\n",
      "10/10 [==============================] - 0s 8ms/step - loss: 0.0042 - val_loss: 0.0039\n",
      "Epoch 88/150\n",
      "10/10 [==============================] - 0s 7ms/step - loss: 0.0041 - val_loss: 0.0038\n",
      "Epoch 89/150\n",
      "10/10 [==============================] - 0s 8ms/step - loss: 0.0041 - val_loss: 0.0038\n",
      "Epoch 90/150\n",
      "10/10 [==============================] - 0s 8ms/step - loss: 0.0041 - val_loss: 0.0039\n",
      "Epoch 91/150\n",
      "10/10 [==============================] - 0s 10ms/step - loss: 0.0041 - val_loss: 0.0038\n",
      "Epoch 92/150\n",
      "10/10 [==============================] - 0s 9ms/step - loss: 0.0041 - val_loss: 0.0038\n",
      "Epoch 93/150\n",
      "10/10 [==============================] - 0s 10ms/step - loss: 0.0041 - val_loss: 0.0038\n",
      "Epoch 94/150\n",
      "10/10 [==============================] - 0s 11ms/step - loss: 0.0041 - val_loss: 0.0037\n",
      "Epoch 95/150\n",
      "10/10 [==============================] - 0s 11ms/step - loss: 0.0041 - val_loss: 0.0038\n",
      "Epoch 96/150\n",
      "10/10 [==============================] - 0s 17ms/step - loss: 0.0041 - val_loss: 0.0038\n",
      "Epoch 97/150\n",
      "10/10 [==============================] - 0s 14ms/step - loss: 0.0041 - val_loss: 0.0038\n",
      "Epoch 98/150\n",
      "10/10 [==============================] - 0s 24ms/step - loss: 0.0040 - val_loss: 0.0038\n",
      "Epoch 99/150\n",
      "10/10 [==============================] - 0s 13ms/step - loss: 0.0040 - val_loss: 0.0038\n",
      "Epoch 100/150\n",
      "10/10 [==============================] - 0s 15ms/step - loss: 0.0040 - val_loss: 0.0038\n",
      "Epoch 101/150\n",
      "10/10 [==============================] - 0s 15ms/step - loss: 0.0040 - val_loss: 0.0038\n",
      "Epoch 102/150\n",
      "10/10 [==============================] - 0s 16ms/step - loss: 0.0041 - val_loss: 0.0037\n",
      "Epoch 103/150\n",
      "10/10 [==============================] - 0s 16ms/step - loss: 0.0040 - val_loss: 0.0038\n",
      "Epoch 104/150\n",
      "10/10 [==============================] - 0s 13ms/step - loss: 0.0040 - val_loss: 0.0037\n",
      "Epoch 105/150\n",
      "10/10 [==============================] - 0s 14ms/step - loss: 0.0040 - val_loss: 0.0037\n",
      "Epoch 106/150\n",
      "10/10 [==============================] - 0s 16ms/step - loss: 0.0040 - val_loss: 0.0037\n",
      "Epoch 107/150\n",
      "10/10 [==============================] - 0s 16ms/step - loss: 0.0041 - val_loss: 0.0038\n",
      "Epoch 108/150\n",
      "10/10 [==============================] - 0s 15ms/step - loss: 0.0041 - val_loss: 0.0037\n",
      "Epoch 109/150\n",
      "10/10 [==============================] - 0s 16ms/step - loss: 0.0041 - val_loss: 0.0038\n",
      "Epoch 110/150\n",
      "10/10 [==============================] - 0s 13ms/step - loss: 0.0041 - val_loss: 0.0037\n",
      "Epoch 111/150\n",
      "10/10 [==============================] - 0s 25ms/step - loss: 0.0040 - val_loss: 0.0038\n",
      "Epoch 112/150\n",
      "10/10 [==============================] - 0s 13ms/step - loss: 0.0040 - val_loss: 0.0037\n",
      "Epoch 113/150\n",
      "10/10 [==============================] - 0s 14ms/step - loss: 0.0040 - val_loss: 0.0037\n",
      "Epoch 114/150\n",
      "10/10 [==============================] - 0s 17ms/step - loss: 0.0040 - val_loss: 0.0037\n",
      "Epoch 115/150\n",
      "10/10 [==============================] - 0s 14ms/step - loss: 0.0040 - val_loss: 0.0037\n",
      "Epoch 116/150\n",
      "10/10 [==============================] - 0s 13ms/step - loss: 0.0040 - val_loss: 0.0037\n",
      "Epoch 117/150\n",
      "10/10 [==============================] - 0s 12ms/step - loss: 0.0040 - val_loss: 0.0037\n",
      "Epoch 118/150\n",
      "10/10 [==============================] - 0s 13ms/step - loss: 0.0040 - val_loss: 0.0036\n",
      "Epoch 119/150\n",
      "10/10 [==============================] - 0s 15ms/step - loss: 0.0040 - val_loss: 0.0037\n",
      "Epoch 120/150\n",
      "10/10 [==============================] - 0s 15ms/step - loss: 0.0041 - val_loss: 0.0037\n",
      "Epoch 121/150\n",
      "10/10 [==============================] - 0s 15ms/step - loss: 0.0041 - val_loss: 0.0036\n",
      "Epoch 122/150\n",
      "10/10 [==============================] - 0s 20ms/step - loss: 0.0040 - val_loss: 0.0037\n",
      "Epoch 123/150\n",
      "10/10 [==============================] - 0s 13ms/step - loss: 0.0039 - val_loss: 0.0036\n",
      "Epoch 124/150\n",
      "10/10 [==============================] - 0s 10ms/step - loss: 0.0040 - val_loss: 0.0037\n",
      "Epoch 125/150\n",
      "10/10 [==============================] - 0s 9ms/step - loss: 0.0040 - val_loss: 0.0036\n",
      "Epoch 126/150\n",
      "10/10 [==============================] - 0s 11ms/step - loss: 0.0039 - val_loss: 0.0036\n",
      "Epoch 127/150\n",
      "10/10 [==============================] - 0s 12ms/step - loss: 0.0039 - val_loss: 0.0036\n",
      "Epoch 128/150\n",
      "10/10 [==============================] - 0s 13ms/step - loss: 0.0039 - val_loss: 0.0037\n",
      "Epoch 129/150\n",
      "10/10 [==============================] - 0s 9ms/step - loss: 0.0039 - val_loss: 0.0036\n",
      "Epoch 130/150\n",
      "10/10 [==============================] - 0s 10ms/step - loss: 0.0039 - val_loss: 0.0036\n",
      "Epoch 131/150\n",
      "10/10 [==============================] - 0s 9ms/step - loss: 0.0039 - val_loss: 0.0036\n",
      "Epoch 132/150\n",
      "10/10 [==============================] - 0s 9ms/step - loss: 0.0040 - val_loss: 0.0037\n",
      "Epoch 133/150\n",
      "10/10 [==============================] - 0s 9ms/step - loss: 0.0039 - val_loss: 0.0036\n",
      "Epoch 134/150\n",
      "10/10 [==============================] - 0s 9ms/step - loss: 0.0039 - val_loss: 0.0036\n",
      "Epoch 135/150\n",
      "10/10 [==============================] - 0s 9ms/step - loss: 0.0039 - val_loss: 0.0036\n",
      "Epoch 136/150\n",
      "10/10 [==============================] - 0s 9ms/step - loss: 0.0040 - val_loss: 0.0036\n",
      "Epoch 137/150\n",
      "10/10 [==============================] - 0s 9ms/step - loss: 0.0039 - val_loss: 0.0036\n",
      "Epoch 138/150\n",
      "10/10 [==============================] - 0s 8ms/step - loss: 0.0039 - val_loss: 0.0036\n",
      "Epoch 139/150\n",
      "10/10 [==============================] - 0s 20ms/step - loss: 0.0039 - val_loss: 0.0036\n",
      "Epoch 140/150\n",
      "10/10 [==============================] - 0s 9ms/step - loss: 0.0039 - val_loss: 0.0036\n",
      "Epoch 141/150\n",
      "10/10 [==============================] - 0s 10ms/step - loss: 0.0039 - val_loss: 0.0036\n",
      "Epoch 142/150\n",
      "10/10 [==============================] - 0s 10ms/step - loss: 0.0039 - val_loss: 0.0036\n",
      "Epoch 143/150\n",
      "10/10 [==============================] - 0s 10ms/step - loss: 0.0039 - val_loss: 0.0035\n",
      "Epoch 144/150\n",
      "10/10 [==============================] - 0s 8ms/step - loss: 0.0039 - val_loss: 0.0036\n",
      "Epoch 145/150\n",
      "10/10 [==============================] - 0s 9ms/step - loss: 0.0039 - val_loss: 0.0036\n",
      "Epoch 146/150\n",
      "10/10 [==============================] - 0s 10ms/step - loss: 0.0039 - val_loss: 0.0036\n",
      "Epoch 147/150\n",
      "10/10 [==============================] - 0s 9ms/step - loss: 0.0039 - val_loss: 0.0035\n",
      "Epoch 148/150\n",
      "10/10 [==============================] - 0s 8ms/step - loss: 0.0038 - val_loss: 0.0036\n",
      "Epoch 149/150\n",
      "10/10 [==============================] - 0s 11ms/step - loss: 0.0039 - val_loss: 0.0035\n",
      "Epoch 150/150\n",
      "10/10 [==============================] - 0s 12ms/step - loss: 0.0039 - val_loss: 0.0035\n"
     ]
    }
   ],
   "source": [
    "history= model.fit(X_train_scaled, Y_train, validation_split=0.2, epochs=150)"
   ]
  },
  {
   "cell_type": "code",
   "execution_count": 50,
   "metadata": {},
   "outputs": [
    {
     "name": "stdout",
     "output_type": "stream",
     "text": [
      "4/4 [==============================] - 0s 3ms/step\n"
     ]
    }
   ],
   "source": [
    "pred= model.predict(X_test_scaled)"
   ]
  },
  {
   "cell_type": "code",
   "execution_count": 51,
   "metadata": {},
   "outputs": [
    {
     "data": {
      "text/plain": [
       "0.8262993954922379"
      ]
     },
     "execution_count": 51,
     "metadata": {},
     "output_type": "execute_result"
    }
   ],
   "source": [
    "from sklearn.metrics import r2_score\n",
    "\n",
    "r2_score(Y_test, pred)"
   ]
  },
  {
   "cell_type": "code",
   "execution_count": 52,
   "metadata": {},
   "outputs": [
    {
     "data": {
      "text/plain": [
       "[<matplotlib.lines.Line2D at 0x20b47936ad0>]"
      ]
     },
     "execution_count": 52,
     "metadata": {},
     "output_type": "execute_result"
    },
    {
     "data": {
      "image/png": "[encoded data removed]",
      "text/plain": [
       "<Figure size 640x480 with 1 Axes>"
      ]
     },
     "metadata": {},
     "output_type": "display_data"
    }
   ],
   "source": [
    "import matplotlib.pyplot as plt\n",
    "\n",
    "plt.plot(history.history['loss'])\n",
    "plt.plot(history.history['val_loss'])\n"
   ]
  }
 ],
 "metadata": {
  "kernelspec": {
   "display_name": "test1",
   "language": "python",
   "name": "python3"
  },
  "language_info": {
   "codemirror_mode": {
    "name": "ipython",
    "version": 3
   },
   "file_extension": ".py",
   "mimetype": "text/x-python",
   "name": "python",
   "nbconvert_exporter": "python",
   "pygments_lexer": "ipython3",
   "version": "3.10.14"
  }
 },
 "nbformat": 4,
 "nbformat_minor": 2
}
